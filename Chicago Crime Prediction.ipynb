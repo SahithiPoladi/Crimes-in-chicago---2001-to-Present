{
    "nbformat_minor": 1, 
    "cells": [
        {
            "execution_count": 1, 
            "cell_type": "code", 
            "metadata": {}, 
            "outputs": [
                {
                    "output_type": "stream", 
                    "name": "stdout", 
                    "text": "Waiting for a Spark session to start...\nSpark Initialization Done! ApplicationId = app-20190427140931-0000\nKERNEL_ID = 1a7d1c78-7fe3-48df-a370-fdd6552550ed\nCollecting wget\n  Downloading https://files.pythonhosted.org/packages/47/6a/62e288da7bcda82b935ff0c6cfe542970f04e29c756b0e147251b2fb251f/wget-3.2.zip\nBuilding wheels for collected packages: wget\n  Running setup.py bdist_wheel for wget ... \u001b[?25ldone\n\u001b[?25h  Stored in directory: /home/spark/shared/.cache/pip/wheels/40/15/30/7d8f7cea2902b4db79e3fea550d7d7b85ecb27ef992b618f3f\nSuccessfully built wget\n\u001b[31mpyspark 2.3.0 requires py4j==0.10.6, which is not installed.\u001b[0m\n\u001b[31mtensorflow 1.3.0 requires tensorflow-tensorboard<0.2.0,>=0.1.0, which is not installed.\u001b[0m\nInstalling collected packages: wget\nSuccessfully installed wget-3.2\n"
                }
            ], 
            "source": "!pip install wget"
        }, 
        {
            "execution_count": 2, 
            "cell_type": "code", 
            "metadata": {}, 
            "outputs": [
                {
                    "output_type": "stream", 
                    "name": "stdout", 
                    "text": "Collecting tensorflow\n\u001b[?25l  Downloading https://files.pythonhosted.org/packages/ca/f2/0931c194bb98398017d52c94ee30e5e1a4082ab6af76e204856ff1fdb33e/tensorflow-1.13.1-cp35-cp35m-manylinux1_x86_64.whl (92.5MB)\n\u001b[K    100% |################################| 92.5MB 217kB/s eta 0:00:01\n\u001b[?25hCollecting tensorflow-estimator<1.14.0rc0,>=1.13.0 (from tensorflow)\n\u001b[?25l  Downloading https://files.pythonhosted.org/packages/bb/48/13f49fc3fa0fdf916aa1419013bb8f2ad09674c275b4046d5ee669a46873/tensorflow_estimator-1.13.0-py2.py3-none-any.whl (367kB)\n\u001b[K    100% |################################| 368kB 4.3MB/s eta 0:00:01\n\u001b[?25hCollecting tensorboard<1.14.0,>=1.13.0 (from tensorflow)\n\u001b[?25l  Downloading https://files.pythonhosted.org/packages/0f/39/bdd75b08a6fba41f098b6cb091b9e8c7a80e1b4d679a581a0ccd17b10373/tensorboard-1.13.1-py3-none-any.whl (3.2MB)\n\u001b[K    100% |################################| 3.2MB 2.8MB/s eta 0:00:01\n\u001b[?25hCollecting termcolor>=1.1.0 (from tensorflow)\n  Downloading https://files.pythonhosted.org/packages/8a/48/a76be51647d0eb9f10e2a4511bf3ffb8cc1e6b14e9e4fab46173aa79f981/termcolor-1.1.0.tar.gz\nCollecting absl-py>=0.1.6 (from tensorflow)\n\u001b[?25l  Downloading https://files.pythonhosted.org/packages/da/3f/9b0355080b81b15ba6a9ffcf1f5ea39e307a2778b2f2dc8694724e8abd5b/absl-py-0.7.1.tar.gz (99kB)\n\u001b[K    100% |################################| 102kB 4.2MB/s ta 0:00:01\n\u001b[?25hCollecting numpy>=1.13.3 (from tensorflow)\n\u001b[?25l  Downloading https://files.pythonhosted.org/packages/f6/f3/cc6c6745347c1e997cc3e58390584a250b8e22b6dfc45414a7d69a3df016/numpy-1.16.3-cp35-cp35m-manylinux1_x86_64.whl (17.2MB)\n\u001b[K    100% |################################| 17.2MB 968kB/s eta 0:00:01\n\u001b[?25hCollecting astor>=0.6.0 (from tensorflow)\n  Downloading https://files.pythonhosted.org/packages/35/6b/11530768cac581a12952a2aad00e1526b89d242d0b9f59534ef6e6a1752f/astor-0.7.1-py2.py3-none-any.whl\nCollecting wheel>=0.26 (from tensorflow)\n  Downloading https://files.pythonhosted.org/packages/96/ba/a4702cbb6a3a485239fbe9525443446203f00771af9ac000fa3ef2788201/wheel-0.33.1-py2.py3-none-any.whl\nCollecting keras-preprocessing>=1.0.5 (from tensorflow)\n\u001b[?25l  Downloading https://files.pythonhosted.org/packages/c0/bf/0315ef6a9fd3fc2346e85b0ff1f5f83ca17073f2c31ac719ab2e4da0d4a3/Keras_Preprocessing-1.0.9-py2.py3-none-any.whl (59kB)\n\u001b[K    100% |################################| 61kB 2.6MB/s eta 0:00:01\n\u001b[?25hCollecting six>=1.10.0 (from tensorflow)\n  Downloading https://files.pythonhosted.org/packages/73/fb/00a976f728d0d1fecfe898238ce23f502a721c0ac0ecfedb80e0d88c64e9/six-1.12.0-py2.py3-none-any.whl\nCollecting protobuf>=3.6.1 (from tensorflow)\n\u001b[?25l  Downloading https://files.pythonhosted.org/packages/81/59/c7b0815a78fd641141f24a6ece878293eae6bf1fce40632a6ab9672346aa/protobuf-3.7.1-cp35-cp35m-manylinux1_x86_64.whl (1.2MB)\n\u001b[K    100% |################################| 1.2MB 3.9MB/s eta 0:00:01\n\u001b[?25hCollecting keras-applications>=1.0.6 (from tensorflow)\n\u001b[?25l  Downloading https://files.pythonhosted.org/packages/90/85/64c82949765cfb246bbdaf5aca2d55f400f792655927a017710a78445def/Keras_Applications-1.0.7-py2.py3-none-any.whl (51kB)\n\u001b[K    100% |################################| 61kB 2.5MB/s eta 0:00:01\n\u001b[?25hCollecting gast>=0.2.0 (from tensorflow)\n  Downloading https://files.pythonhosted.org/packages/4e/35/11749bf99b2d4e3cceb4d55ca22590b0d7c2c62b9de38ac4a4a7f4687421/gast-0.2.2.tar.gz\nCollecting grpcio>=1.8.6 (from tensorflow)\n\u001b[?25l  Downloading https://files.pythonhosted.org/packages/87/1d/df17052784a9e19668b9ef7cb778d31ba984e4a2057be2895d1709505dff/grpcio-1.20.1-cp35-cp35m-manylinux1_x86_64.whl (2.1MB)\n\u001b[K    100% |################################| 2.1MB 3.1MB/s eta 0:00:01\n\u001b[?25hCollecting mock>=2.0.0 (from tensorflow-estimator<1.14.0rc0,>=1.13.0->tensorflow)\n\u001b[?25l  Downloading https://files.pythonhosted.org/packages/e6/35/f187bdf23be87092bd0f1200d43d23076cee4d0dec109f195173fd3ebc79/mock-2.0.0-py2.py3-none-any.whl (56kB)\n\u001b[K    100% |################################| 61kB 2.8MB/s eta 0:00:01\n\u001b[?25hCollecting werkzeug>=0.11.15 (from tensorboard<1.14.0,>=1.13.0->tensorflow)\n\u001b[?25l  Downloading https://files.pythonhosted.org/packages/18/79/84f02539cc181cdbf5ff5a41b9f52cae870b6f632767e43ba6ac70132e92/Werkzeug-0.15.2-py2.py3-none-any.whl (328kB)\n\u001b[K    100% |################################| 337kB 4.5MB/s eta 0:00:01\n\u001b[?25hCollecting markdown>=2.6.8 (from tensorboard<1.14.0,>=1.13.0->tensorflow)\n\u001b[?25l  Downloading https://files.pythonhosted.org/packages/f5/e4/d8c18f2555add57ff21bf25af36d827145896a07607486cc79a2aea641af/Markdown-3.1-py2.py3-none-any.whl (87kB)\n\u001b[K    100% |################################| 92kB 4.0MB/s eta 0:00:01\n\u001b[?25hCollecting setuptools (from protobuf>=3.6.1->tensorflow)\n\u001b[?25l  Downloading https://files.pythonhosted.org/packages/ec/51/f45cea425fd5cb0b0380f5b0f048ebc1da5b417e48d304838c02d6288a1e/setuptools-41.0.1-py2.py3-none-any.whl (575kB)\n\u001b[K    100% |################################| 583kB 4.3MB/s eta 0:00:01\n\u001b[?25hCollecting h5py (from keras-applications>=1.0.6->tensorflow)\n\u001b[?25l  Downloading https://files.pythonhosted.org/packages/4c/77/c4933e12dca0f61bcdafc207c7532e1250b8d12719459fd85132f3daa9fd/h5py-2.9.0-cp35-cp35m-manylinux1_x86_64.whl (2.8MB)\n\u001b[K    100% |################################| 2.8MB 3.1MB/s eta 0:00:01\n\u001b[?25hCollecting pbr>=0.11 (from mock>=2.0.0->tensorflow-estimator<1.14.0rc0,>=1.13.0->tensorflow)\n\u001b[?25l  Downloading https://files.pythonhosted.org/packages/07/3e/22d1d35a4b51706ca3590c54359aeb5fa7ea60df46180143a3ea13d45f29/pbr-5.2.0-py2.py3-none-any.whl (107kB)\n\u001b[K    100% |################################| 112kB 4.7MB/s eta 0:00:01\n\u001b[?25hBuilding wheels for collected packages: termcolor, absl-py, gast\n  Running setup.py bdist_wheel for termcolor ... \u001b[?25ldone\n\u001b[?25h  Stored in directory: /home/spark/shared/.cache/pip/wheels/7c/06/54/bc84598ba1daf8f970247f550b175aaaee85f68b4b0c5ab2c6\n  Running setup.py bdist_wheel for absl-py ... \u001b[?25ldone\n\u001b[?25h  Stored in directory: /home/spark/shared/.cache/pip/wheels/ee/98/38/46cbcc5a93cfea5492d19c38562691ddb23b940176c14f7b48\n  Running setup.py bdist_wheel for gast ... \u001b[?25ldone\n\u001b[?25h  Stored in directory: /home/spark/shared/.cache/pip/wheels/5c/2e/7e/a1d4d4fcebe6c381f378ce7743a3ced3699feb89bcfbdadadd\nSuccessfully built termcolor absl-py gast\n\u001b[31mpyspark 2.3.0 requires py4j==0.10.6, which is not installed.\u001b[0m\nInstalling collected packages: six, absl-py, numpy, pbr, mock, tensorflow-estimator, grpcio, werkzeug, wheel, setuptools, protobuf, markdown, tensorboard, termcolor, astor, keras-preprocessing, h5py, keras-applications, gast, tensorflow\nSuccessfully installed absl-py-0.7.1 astor-0.7.1 gast-0.2.2 grpcio-1.20.1 h5py-2.9.0 keras-applications-1.0.7 keras-preprocessing-1.0.9 markdown-3.1 mock-2.0.0 numpy-1.16.3 pbr-5.2.0 protobuf-3.7.1 setuptools-41.0.1 six-1.12.0 tensorboard-1.13.1 tensorflow-1.13.1 tensorflow-estimator-1.13.0 termcolor-1.1.0 werkzeug-0.15.2 wheel-0.33.1\n\u001b[33mTarget directory /home/spark/shared/user-libs/python3/__pycache__ already exists. Specify --upgrade to force replacement.\u001b[0m\n"
                }
            ], 
            "source": "!pip install tensorflow"
        }, 
        {
            "execution_count": 3, 
            "cell_type": "code", 
            "metadata": {}, 
            "outputs": [
                {
                    "output_type": "stream", 
                    "name": "stdout", 
                    "text": "Collecting py4j==0.10.6\n\u001b[?25l  Downloading https://files.pythonhosted.org/packages/4a/08/162710786239aa72bd72bb46c64f2b02f54250412ba928cb373b30699139/py4j-0.10.6-py2.py3-none-any.whl (189kB)\n\u001b[K    100% |################################| 194kB 4.0MB/s eta 0:00:01\n\u001b[?25hInstalling collected packages: py4j\nSuccessfully installed py4j-0.10.6\n"
                }
            ], 
            "source": "!pip install py4j==0.10.6"
        }, 
        {
            "execution_count": 4, 
            "cell_type": "code", 
            "metadata": {}, 
            "outputs": [
                {
                    "execution_count": 4, 
                    "metadata": {}, 
                    "data": {
                        "text/plain": "[Row(ID=10642781, Case Number='HZ394208', Date='08/15/2016 11:15:00 AM', Block='061XX W GRAND AVE', IUCR='0460', Primary Type='BATTERY', Description='SIMPLE', Location Description='APARTMENT', Arrest=False, Domestic=False, Beat=2512, District=25, Ward=29, Community Area=19, FBI Code='08B', X Coordinate=1134907, Y Coordinate=1914405, Year=2016, Updated On='02/10/2018 03:50:01 PM', Latitude=41.921319589, Longitude=-87.779748093, Location='(41.921319589, -87.779748093)')]"
                    }, 
                    "output_type": "execute_result"
                }
            ], 
            "source": "# The code was removed by Watson Studio for sharing."
        }, 
        {
            "execution_count": 5, 
            "cell_type": "code", 
            "metadata": {}, 
            "outputs": [
                {
                    "output_type": "stream", 
                    "name": "stdout", 
                    "text": "root\n |-- ID: integer (nullable = true)\n |-- Case Number: string (nullable = true)\n |-- Date: string (nullable = true)\n |-- Block: string (nullable = true)\n |-- IUCR: string (nullable = true)\n |-- Primary Type: string (nullable = true)\n |-- Description: string (nullable = true)\n |-- Location Description: string (nullable = true)\n |-- Arrest: boolean (nullable = true)\n |-- Domestic: boolean (nullable = true)\n |-- Beat: integer (nullable = true)\n |-- District: integer (nullable = true)\n |-- Ward: integer (nullable = true)\n |-- Community Area: integer (nullable = true)\n |-- FBI Code: string (nullable = true)\n |-- X Coordinate: integer (nullable = true)\n |-- Y Coordinate: integer (nullable = true)\n |-- Year: integer (nullable = true)\n |-- Updated On: string (nullable = true)\n |-- Latitude: double (nullable = true)\n |-- Longitude: double (nullable = true)\n |-- Location: string (nullable = true)\n\n"
                }
            ], 
            "source": "df_data_1.printSchema()"
        }, 
        {
            "execution_count": 6, 
            "cell_type": "code", 
            "metadata": {}, 
            "outputs": [
                {
                    "execution_count": 6, 
                    "metadata": {}, 
                    "data": {
                        "text/plain": "6140717"
                    }, 
                    "output_type": "execute_result"
                }
            ], 
            "source": "df_data_1.dropna(how=\"any\").count()"
        }, 
        {
            "execution_count": 7, 
            "cell_type": "code", 
            "metadata": {}, 
            "outputs": [
                {
                    "execution_count": 7, 
                    "metadata": {}, 
                    "data": {
                        "text/plain": "35"
                    }, 
                    "output_type": "execute_result"
                }
            ], 
            "source": "df_data_1.select('Primary Type').distinct().count()"
        }, 
        {
            "execution_count": 8, 
            "cell_type": "code", 
            "metadata": {}, 
            "outputs": [
                {
                    "execution_count": 8, 
                    "metadata": {}, 
                    "data": {
                        "text/plain": "381"
                    }, 
                    "output_type": "execute_result"
                }
            ], 
            "source": "df_data_1.select('Description').distinct().count()"
        }, 
        {
            "execution_count": 9, 
            "cell_type": "code", 
            "metadata": {}, 
            "outputs": [
                {
                    "execution_count": 9, 
                    "metadata": {}, 
                    "data": {
                        "text/plain": "180"
                    }, 
                    "output_type": "execute_result"
                }
            ], 
            "source": "df_data_1.select('Location Description').distinct().count()"
        }, 
        {
            "execution_count": 10, 
            "cell_type": "code", 
            "metadata": {}, 
            "outputs": [
                {
                    "execution_count": 10, 
                    "metadata": {}, 
                    "data": {
                        "text/plain": "19"
                    }, 
                    "output_type": "execute_result"
                }
            ], 
            "source": "df_data_1.select('Year').distinct().count()"
        }, 
        {
            "execution_count": 11, 
            "cell_type": "code", 
            "metadata": {}, 
            "outputs": [
                {
                    "execution_count": 11, 
                    "metadata": {}, 
                    "data": {
                        "text/plain": "403"
                    }, 
                    "output_type": "execute_result"
                }
            ], 
            "source": "df_data_1.select('IUCR').distinct().count()"
        }, 
        {
            "execution_count": 12, 
            "cell_type": "code", 
            "metadata": {}, 
            "outputs": [
                {
                    "execution_count": 12, 
                    "metadata": {}, 
                    "data": {
                        "text/plain": "304"
                    }, 
                    "output_type": "execute_result"
                }
            ], 
            "source": "df_data_1.select('Beat').distinct().count()"
        }, 
        {
            "execution_count": 13, 
            "cell_type": "code", 
            "metadata": {}, 
            "outputs": [
                {
                    "execution_count": 13, 
                    "metadata": {}, 
                    "data": {
                        "text/plain": "25"
                    }, 
                    "output_type": "execute_result"
                }
            ], 
            "source": "df_data_1.select('District').distinct().count()"
        }, 
        {
            "execution_count": 14, 
            "cell_type": "code", 
            "metadata": {}, 
            "outputs": [
                {
                    "execution_count": 14, 
                    "metadata": {}, 
                    "data": {
                        "text/plain": "51"
                    }, 
                    "output_type": "execute_result"
                }
            ], 
            "source": "df_data_1.select('Ward').distinct().count()"
        }, 
        {
            "execution_count": 15, 
            "cell_type": "code", 
            "metadata": {}, 
            "outputs": [
                {
                    "execution_count": 15, 
                    "metadata": {}, 
                    "data": {
                        "text/plain": "79"
                    }, 
                    "output_type": "execute_result"
                }
            ], 
            "source": "df_data_1.select('Community Area').distinct().count()"
        }, 
        {
            "execution_count": 16, 
            "cell_type": "code", 
            "metadata": {}, 
            "outputs": [
                {
                    "execution_count": 16, 
                    "metadata": {}, 
                    "data": {
                        "text/plain": "26"
                    }, 
                    "output_type": "execute_result"
                }
            ], 
            "source": "df_data_1.select('FBI Code').distinct().count()"
        }, 
        {
            "execution_count": 17, 
            "cell_type": "code", 
            "metadata": {
                "scrolled": true
            }, 
            "outputs": [
                {
                    "output_type": "stream", 
                    "name": "stdout", 
                    "text": "Number of training records: 4911711\nNumber of testing records : 1106642\nNumber of prediction records : 122364\n"
                }
            ], 
            "source": "splitted_data = df_data_1.randomSplit([0.8, 0.18, 0.02], 24)\ntrain_data = splitted_data[0]\ntest_data = splitted_data[1]\npredict_data = splitted_data[2]\n\nprint(\"Number of training records: \" + str(train_data.dropna(how=\"any\").count()))\nprint(\"Number of testing records : \" + str(test_data.dropna(how=\"any\").count()))\nprint(\"Number of prediction records : \" + str(predict_data.dropna(how=\"any\").count()))"
        }, 
        {
            "execution_count": 18, 
            "cell_type": "code", 
            "metadata": {}, 
            "outputs": [], 
            "source": "from pyspark.ml.feature import OneHotEncoder, StringIndexer, IndexToString, VectorAssembler\nfrom pyspark.ml.classification import RandomForestClassifier, DecisionTreeClassifier\nfrom pyspark.ml.evaluation import MulticlassClassificationEvaluator\nfrom pyspark.ml import Pipeline, Model\nfrom pyspark.ml.tuning import ParamGridBuilder;"
        }, 
        {
            "execution_count": 19, 
            "cell_type": "code", 
            "metadata": {}, 
            "outputs": [], 
            "source": "stringIndexer_label = StringIndexer(inputCol=\"Primary Type\", outputCol=\"label\", handleInvalid=\"keep\").fit(df_data_1.dropna(how=\"any\"))\nstringIndexer_fbi = StringIndexer(inputCol=\"FBI Code\", outputCol=\"FBI_Code_IX\", handleInvalid=\"keep\")"
        }, 
        {
            "execution_count": 20, 
            "cell_type": "code", 
            "metadata": {}, 
            "outputs": [], 
            "source": "vectorAssembler_features = VectorAssembler(inputCols=[\"FBI_Code_IX\", \"District\", \"Ward\", \"Community Area\", \"Year\"], outputCol=\"features\")"
        }, 
        {
            "execution_count": 21, 
            "cell_type": "code", 
            "metadata": {}, 
            "outputs": [], 
            "source": "rf = RandomForestClassifier(labelCol=\"label\", featuresCol=\"features\")"
        }, 
        {
            "execution_count": 22, 
            "cell_type": "code", 
            "metadata": {}, 
            "outputs": [], 
            "source": "labelConverter = IndexToString(inputCol=\"prediction\", outputCol=\"predictedLabel\", labels=stringIndexer_label.labels)"
        }, 
        {
            "execution_count": 23, 
            "cell_type": "code", 
            "metadata": {}, 
            "outputs": [], 
            "source": "pipeline_rf = Pipeline(stages=[stringIndexer_label, stringIndexer_fbi, vectorAssembler_features, rf, labelConverter])"
        }, 
        {
            "execution_count": 24, 
            "cell_type": "code", 
            "metadata": {}, 
            "outputs": [
                {
                    "output_type": "stream", 
                    "name": "stdout", 
                    "text": "root\n |-- ID: integer (nullable = true)\n |-- Case Number: string (nullable = true)\n |-- Date: string (nullable = true)\n |-- Block: string (nullable = true)\n |-- IUCR: string (nullable = true)\n |-- Primary Type: string (nullable = true)\n |-- Description: string (nullable = true)\n |-- Location Description: string (nullable = true)\n |-- Arrest: boolean (nullable = true)\n |-- Domestic: boolean (nullable = true)\n |-- Beat: integer (nullable = true)\n |-- District: integer (nullable = true)\n |-- Ward: integer (nullable = true)\n |-- Community Area: integer (nullable = true)\n |-- FBI Code: string (nullable = true)\n |-- X Coordinate: integer (nullable = true)\n |-- Y Coordinate: integer (nullable = true)\n |-- Year: integer (nullable = true)\n |-- Updated On: string (nullable = true)\n |-- Latitude: double (nullable = true)\n |-- Longitude: double (nullable = true)\n |-- Location: string (nullable = true)\n\n"
                }
            ], 
            "source": "train_data.printSchema()"
        }, 
        {
            "execution_count": 25, 
            "cell_type": "code", 
            "metadata": {}, 
            "outputs": [], 
            "source": "model_rf = pipeline_rf.fit(train_data.dropna(how=\"any\"))"
        }, 
        {
            "execution_count": 26, 
            "cell_type": "code", 
            "metadata": {}, 
            "outputs": [
                {
                    "output_type": "stream", 
                    "name": "stdout", 
                    "text": "Accuracy = 0.789956\nTest Error = 0.210044\n"
                }
            ], 
            "source": "predictions = model_rf.transform(test_data.dropna(how=\"any\"))\nevaluatorRF = MulticlassClassificationEvaluator(labelCol=\"label\", predictionCol=\"prediction\", metricName=\"accuracy\")\naccuracy = evaluatorRF.evaluate(predictions)\n\nprint(\"Accuracy = %g\" % accuracy)\nprint(\"Test Error = %g\" % (1.0 - accuracy))"
        }, 
        {
            "execution_count": 27, 
            "cell_type": "code", 
            "metadata": {}, 
            "outputs": [], 
            "source": "from repository.mlrepositoryclient import MLRepositoryClient\nfrom repository.mlrepositoryartifact import MLRepositoryArtifact"
        }, 
        {
            "execution_count": 28, 
            "cell_type": "code", 
            "metadata": {}, 
            "outputs": [], 
            "source": "service_path = 'https://us-south.ml.cloud.ibm.com'\ninstance_id = '0c7707e4-c298-40c9-a668-ae63f2cc31de'\nusername = 'd4ee1165-65d7-4b65-a3e2-ab66beea2657'\npassword = 'c2fe77bb-1508-494b-86b7-c50eb323f47b'"
        }, 
        {
            "execution_count": 29, 
            "cell_type": "code", 
            "metadata": {}, 
            "outputs": [], 
            "source": "ml_repository_client = MLRepositoryClient(service_path)\nml_repository_client.authorize(username, password)"
        }, 
        {
            "execution_count": 30, 
            "cell_type": "code", 
            "metadata": {}, 
            "outputs": [], 
            "source": "model_artifact = MLRepositoryArtifact(model_rf, training_data = train_data, name=\"Crime Line prediction\")"
        }, 
        {
            "execution_count": 31, 
            "cell_type": "code", 
            "metadata": {}, 
            "outputs": [], 
            "source": "saved_model = ml_repository_client.models.save(model_artifact)"
        }, 
        {
            "execution_count": 32, 
            "cell_type": "code", 
            "metadata": {}, 
            "outputs": [
                {
                    "execution_count": 32, 
                    "metadata": {}, 
                    "data": {
                        "text/plain": "dict_keys(['label', 'evaluationMetrics', 'creationTime', 'pipelineVersionHref', 'modelType', 'authorEmail', 'inputDataSchema', 'trainingDataSchema', 'authorName', 'modelVersionHref', 'runtime', 'lastUpdated', 'evaluationMethod', 'version', 'trainingDataRef'])"
                    }, 
                    "output_type": "execute_result"
                }
            ], 
            "source": "saved_model.meta.available_props()"
        }, 
        {
            "execution_count": 33, 
            "cell_type": "code", 
            "metadata": {}, 
            "outputs": [
                {
                    "output_type": "stream", 
                    "name": "stdout", 
                    "text": "modelType: sparkml-model-2.3\ntrainingDataSchema: {'fields': [{'nullable': True, 'type': 'integer', 'name': 'ID', 'metadata': {}}, {'nullable': True, 'type': 'string', 'name': 'Case Number', 'metadata': {}}, {'nullable': True, 'type': 'string', 'name': 'Date', 'metadata': {}}, {'nullable': True, 'type': 'string', 'name': 'Block', 'metadata': {}}, {'nullable': True, 'type': 'string', 'name': 'IUCR', 'metadata': {}}, {'nullable': True, 'type': 'string', 'name': 'Primary Type', 'metadata': {}}, {'nullable': True, 'type': 'string', 'name': 'Description', 'metadata': {}}, {'nullable': True, 'type': 'string', 'name': 'Location Description', 'metadata': {}}, {'nullable': True, 'type': 'boolean', 'name': 'Arrest', 'metadata': {}}, {'nullable': True, 'type': 'boolean', 'name': 'Domestic', 'metadata': {}}, {'nullable': True, 'type': 'integer', 'name': 'Beat', 'metadata': {}}, {'nullable': True, 'type': 'integer', 'name': 'District', 'metadata': {}}, {'nullable': True, 'type': 'integer', 'name': 'Ward', 'metadata': {}}, {'nullable': True, 'type': 'integer', 'name': 'Community Area', 'metadata': {}}, {'nullable': True, 'type': 'string', 'name': 'FBI Code', 'metadata': {}}, {'nullable': True, 'type': 'integer', 'name': 'X Coordinate', 'metadata': {}}, {'nullable': True, 'type': 'integer', 'name': 'Y Coordinate', 'metadata': {}}, {'nullable': True, 'type': 'integer', 'name': 'Year', 'metadata': {}}, {'nullable': True, 'type': 'string', 'name': 'Updated On', 'metadata': {}}, {'nullable': True, 'type': 'double', 'name': 'Latitude', 'metadata': {}}, {'nullable': True, 'type': 'double', 'name': 'Longitude', 'metadata': {}}, {'nullable': True, 'type': 'string', 'name': 'Location', 'metadata': {}}], 'type': 'struct'}\ncreationTime: 2019-04-27 14:48:02.426000+00:00\nmodelVersionHref: https://us-south.ml.cloud.ibm.com/v2/artifacts/models/5b01fc4c-2f16-41fb-8de9-edc3ea1e178f/versions/c904bec2-6a52-4a7d-90cd-288fcaa399d4\nlabel: Primary Type\n"
                }
            ], 
            "source": "print (\"modelType: \" + saved_model.meta.prop(\"modelType\"))\nprint (\"trainingDataSchema: \" + str(saved_model.meta.prop(\"trainingDataSchema\")))\nprint (\"creationTime: \" + str(saved_model.meta.prop(\"creationTime\")))\nprint (\"modelVersionHref: \" + saved_model.meta.prop(\"modelVersionHref\"))\nprint (\"label: \" + saved_model.meta.prop(\"label\"))"
        }, 
        {
            "execution_count": 34, 
            "cell_type": "code", 
            "metadata": {}, 
            "outputs": [], 
            "source": "loadedModelArtifact = ml_repository_client.models.get(saved_model.uid)"
        }, 
        {
            "execution_count": 35, 
            "cell_type": "code", 
            "metadata": {}, 
            "outputs": [
                {
                    "output_type": "stream", 
                    "name": "stdout", 
                    "text": "Crime Line prediction\n"
                }
            ], 
            "source": "print (loadedModelArtifact.name)"
        }, 
        {
            "execution_count": 36, 
            "cell_type": "code", 
            "metadata": {}, 
            "outputs": [], 
            "source": "predictions = loadedModelArtifact.model_instance().transform(predict_data.dropna(how=\"any\"))"
        }, 
        {
            "execution_count": 37, 
            "cell_type": "code", 
            "metadata": {}, 
            "outputs": [
                {
                    "output_type": "stream", 
                    "name": "stdout", 
                    "text": "+-----+-----------+--------------------+--------------------+----+------------+-------------------+--------------------+------+--------+----+--------+----+--------------+--------+------------+------------+----+--------------------+------------+-------------+--------------------+-----+-----------+--------------------+--------------------+--------------------+----------+--------------+\n|   ID|Case Number|                Date|               Block|IUCR|Primary Type|        Description|Location Description|Arrest|Domestic|Beat|District|Ward|Community Area|FBI Code|X Coordinate|Y Coordinate|Year|          Updated On|    Latitude|    Longitude|            Location|label|FBI_Code_IX|            features|       rawPrediction|         probability|prediction|predictedLabel|\n+-----+-----------+--------------------+--------------------+----+------------+-------------------+--------------------+------+--------+----+--------+----+--------------+--------+------------+------------+----+--------------------+------------+-------------+--------------------+-----+-----------+--------------------+--------------------+--------------------+----------+--------------+\n|  947|    G422531|07/19/2001 01:04:...|007XX S WASHTENAW...|0110|    HOMICIDE|FIRST DEGREE MURDER|              STREET| false|   false|1135|      11|   2|            27|     01A|     1158480|     1896767|2001|08/17/2015 03:03:...|41.872469148|-87.693617794|(41.872469148, -8...| 21.0|       22.0|[22.0,11.0,2.0,27...|[0.0,4.0706521556...|[0.0,0.2035326077...|       1.0|       BATTERY|\n|  997|    G468177|08/07/2001 09:38:...|036XX W ROOSEVELT RD|0110|    HOMICIDE|FIRST DEGREE MURDER|              STREET| false|   false|1133|      11|  24|            29|     01A|     1152095|     1894464|2001|08/17/2015 03:03:...|41.866277647|-87.717120788|(41.866277647, -8...| 21.0|       22.0|[22.0,11.0,24.0,2...|[0.0,4.1894510124...|[0.0,0.2094725506...|       1.0|       BATTERY|\n|23158|   HR498619|11/23/2016 07:00:...|015XX W AUGUSTA BLVD|0110|    HOMICIDE|FIRST DEGREE MURDER|              STREET|  true|   false|1213|      12|  27|            24|     01A|     1165960|     1906760|2016|05/03/2018 03:49:...|41.899734447|-87.665870075|(41.899734447, -8...| 21.0|       22.0|[22.0,12.0,27.0,2...|[0.0,4.1585135540...|[0.0,0.2079256777...|       1.0|       BATTERY|\n|23216|   HT364674|07/13/2012 07:00:...|  052XX S ALBANY AVE|0110|    HOMICIDE|FIRST DEGREE MURDER|              STREET| false|   false| 923|       9|  14|            63|     01A|     1156597|     1869778|2012|05/03/2018 03:49:...|41.798446403|-87.701260283|(41.798446403, -8...| 21.0|       22.0|[22.0,9.0,14.0,63...|[0.0,4.1321679063...|[0.0,0.2066083953...|       1.0|       BATTERY|\n|23877|   JB204259|03/29/2018 04:30:...|040XX W VAN BUREN ST|0110|    HOMICIDE|FIRST DEGREE MURDER|                AUTO| false|   false|1132|      11|  24|            26|     01A|     1149613|     1897720|2018|04/05/2018 03:52:...|41.875261016|-87.726147954|(41.875261016, -8...| 21.0|       22.0|[22.0,11.0,24.0,2...|[0.0,4.1585135540...|[0.0,0.2079256777...|       1.0|       BATTERY|\n+-----+-----------+--------------------+--------------------+----+------------+-------------------+--------------------+------+--------+----+--------+----+--------------+--------+------------+------------+----+--------------------+------------+-------------+--------------------+-----+-----------+--------------------+--------------------+--------------------+----------+--------------+\nonly showing top 5 rows\n\n"
                }
            ], 
            "source": "predictions.show(5)"
        }, 
        {
            "execution_count": 38, 
            "cell_type": "code", 
            "metadata": {}, 
            "outputs": [
                {
                    "output_type": "stream", 
                    "name": "stdout", 
                    "text": "+-------------------+-----+\n|     predictedLabel|count|\n+-------------------+-----+\n|            ASSAULT| 8187|\n|MOTOR VEHICLE THEFT| 1209|\n|              THEFT|25943|\n|            BATTERY|35886|\n| DECEPTIVE PRACTICE| 2554|\n|    CRIMINAL DAMAGE|14036|\n|          NARCOTICS|11966|\n|      OTHER OFFENSE|15174|\n|           BURGLARY| 7409|\n+-------------------+-----+\n\n"
                }
            ], 
            "source": "predictions.select(\"predictedLabel\").groupBy(\"predictedLabel\").count().show()"
        }, 
        {
            "execution_count": 39, 
            "cell_type": "code", 
            "metadata": {
                "scrolled": true
            }, 
            "outputs": [
                {
                    "output_type": "stream", 
                    "name": "stdout", 
                    "text": "Collecting plotly\n\u001b[?25l  Downloading https://files.pythonhosted.org/packages/34/18/ef96260cb7a68cf613348cc7fe90efa4e32eaf23c46ade7032e6548e25a7/plotly-3.8.1-py2.py3-none-any.whl (41.2MB)\n\u001b[K    100% |################################| 41.2MB 340kB/s eta 0:00:01\n\u001b[?25hCollecting pytz (from plotly)\n\u001b[?25l  Downloading https://files.pythonhosted.org/packages/3d/73/fe30c2daaaa0713420d0382b16fbb761409f532c56bdcc514bf7b6262bb6/pytz-2019.1-py2.py3-none-any.whl (510kB)\n\u001b[K    100% |################################| 512kB 4.0MB/s eta 0:00:01\n\u001b[?25hCollecting six (from plotly)\n  Using cached https://files.pythonhosted.org/packages/73/fb/00a976f728d0d1fecfe898238ce23f502a721c0ac0ecfedb80e0d88c64e9/six-1.12.0-py2.py3-none-any.whl\nCollecting decorator>=4.0.6 (from plotly)\n  Downloading https://files.pythonhosted.org/packages/5f/88/0075e461560a1e750a0dcbf77f1d9de775028c37a19a346a6c565a257399/decorator-4.4.0-py2.py3-none-any.whl\nCollecting requests (from plotly)\n\u001b[?25l  Downloading https://files.pythonhosted.org/packages/7d/e3/20f3d364d6c8e5d2353c72a67778eb189176f08e873c9900e10c0287b84b/requests-2.21.0-py2.py3-none-any.whl (57kB)\n\u001b[K    100% |################################| 61kB 2.9MB/s eta 0:00:01\n\u001b[?25hCollecting retrying>=1.3.3 (from plotly)\n  Downloading https://files.pythonhosted.org/packages/44/ef/beae4b4ef80902f22e3af073397f079c96969c69b2c7d52a57ea9ae61c9d/retrying-1.3.3.tar.gz\nCollecting nbformat>=4.2 (from plotly)\n\u001b[?25l  Downloading https://files.pythonhosted.org/packages/da/27/9a654d2b6cc1eaa517d1c5a4405166c7f6d72f04f6e7eea41855fe808a46/nbformat-4.4.0-py2.py3-none-any.whl (155kB)\n\u001b[K    100% |################################| 163kB 4.4MB/s eta 0:00:01\n\u001b[?25hCollecting chardet<3.1.0,>=3.0.2 (from requests->plotly)\n\u001b[?25l  Downloading https://files.pythonhosted.org/packages/bc/a9/01ffebfb562e4274b6487b4bb1ddec7ca55ec7510b22e4c51f14098443b8/chardet-3.0.4-py2.py3-none-any.whl (133kB)\n\u001b[K    100% |################################| 143kB 4.6MB/s eta 0:00:01\n\u001b[?25hCollecting certifi>=2017.4.17 (from requests->plotly)\n\u001b[?25l  Downloading https://files.pythonhosted.org/packages/60/75/f692a584e85b7eaba0e03827b3d51f45f571c2e793dd731e598828d380aa/certifi-2019.3.9-py2.py3-none-any.whl (158kB)\n\u001b[K    100% |################################| 163kB 4.5MB/s eta 0:00:01\n\u001b[?25hCollecting urllib3<1.25,>=1.21.1 (from requests->plotly)\n\u001b[?25l  Downloading https://files.pythonhosted.org/packages/df/1c/59cca3abf96f991f2ec3131a4ffe72ae3d9ea1f5894abe8a9c5e3c77cfee/urllib3-1.24.2-py2.py3-none-any.whl (131kB)\n\u001b[K    100% |################################| 133kB 4.3MB/s eta 0:00:01\n\u001b[?25hCollecting idna<2.9,>=2.5 (from requests->plotly)\n\u001b[?25l  Downloading https://files.pythonhosted.org/packages/14/2c/cd551d81dbe15200be1cf41cd03869a46fe7226e7450af7a6545bfc474c9/idna-2.8-py2.py3-none-any.whl (58kB)\n\u001b[K    100% |################################| 61kB 2.6MB/s eta 0:00:01\n\u001b[?25hCollecting jsonschema!=2.5.0,>=2.4 (from nbformat>=4.2->plotly)\n\u001b[?25l  Downloading https://files.pythonhosted.org/packages/aa/69/df679dfbdd051568b53c38ec8152a3ab6bc533434fc7ed11ab034bf5e82f/jsonschema-3.0.1-py2.py3-none-any.whl (54kB)\n\u001b[K    100% |################################| 61kB 2.5MB/s eta 0:00:01\n\u001b[?25hCollecting traitlets>=4.1 (from nbformat>=4.2->plotly)\n\u001b[?25l  Downloading https://files.pythonhosted.org/packages/93/d6/abcb22de61d78e2fc3959c964628a5771e47e7cc60d53e9342e21ed6cc9a/traitlets-4.3.2-py2.py3-none-any.whl (74kB)\n\u001b[K    100% |################################| 81kB 3.4MB/s eta 0:00:01\n\u001b[?25hCollecting ipython-genutils (from nbformat>=4.2->plotly)\n  Downloading https://files.pythonhosted.org/packages/fa/bc/9bd3b5c2b4774d5f33b2d544f1460be9df7df2fe42f352135381c347c69a/ipython_genutils-0.2.0-py2.py3-none-any.whl\nCollecting jupyter-core (from nbformat>=4.2->plotly)\n\u001b[?25l  Downloading https://files.pythonhosted.org/packages/1d/44/065d2d7bae7bebc06f1dd70d23c36da8c50c0f08b4236716743d706762a8/jupyter_core-4.4.0-py2.py3-none-any.whl (126kB)\n\u001b[K    100% |################################| 133kB 4.3MB/s eta 0:00:01\n\u001b[?25hCollecting attrs>=17.4.0 (from jsonschema!=2.5.0,>=2.4->nbformat>=4.2->plotly)\n  Downloading https://files.pythonhosted.org/packages/23/96/d828354fa2dbdf216eaa7b7de0db692f12c234f7ef888cc14980ef40d1d2/attrs-19.1.0-py2.py3-none-any.whl\nCollecting pyrsistent>=0.14.0 (from jsonschema!=2.5.0,>=2.4->nbformat>=4.2->plotly)\n\u001b[?25l  Downloading https://files.pythonhosted.org/packages/2c/a7/8a50738eb27e204aa271abe170dec7bdbb07128ed892fb3a92f14a69bae3/pyrsistent-0.15.1.tar.gz (106kB)\n\u001b[K    100% |################################| 112kB 4.5MB/s eta 0:00:01\n\u001b[?25hCollecting setuptools (from jsonschema!=2.5.0,>=2.4->nbformat>=4.2->plotly)\n  Using cached https://files.pythonhosted.org/packages/ec/51/f45cea425fd5cb0b0380f5b0f048ebc1da5b417e48d304838c02d6288a1e/setuptools-41.0.1-py2.py3-none-any.whl\nBuilding wheels for collected packages: retrying, pyrsistent\n  Running setup.py bdist_wheel for retrying ... \u001b[?25ldone\n\u001b[?25h  Stored in directory: /home/spark/shared/.cache/pip/wheels/d7/a9/33/acc7b709e2a35caa7d4cae442f6fe6fbf2c43f80823d46460c\n  Running setup.py bdist_wheel for pyrsistent ... \u001b[?25ldone\n\u001b[?25h  Stored in directory: /home/spark/shared/.cache/pip/wheels/93/03/43/ed0b3c9666e2001e2e6cce51efebdf3ce5e8edfa92966b1f6f\nSuccessfully built retrying pyrsistent\nInstalling collected packages: pytz, six, decorator, chardet, certifi, urllib3, idna, requests, retrying, attrs, pyrsistent, setuptools, jsonschema, ipython-genutils, traitlets, jupyter-core, nbformat, plotly\nSuccessfully installed attrs-19.1.0 certifi-2019.3.9 chardet-3.0.4 decorator-4.4.0 idna-2.8 ipython-genutils-0.2.0 jsonschema-3.0.1 jupyter-core-4.4.0 nbformat-4.4.0 plotly-3.8.1 pyrsistent-0.15.1 pytz-2019.1 requests-2.21.0 retrying-1.3.3 setuptools-41.0.1 six-1.12.0 traitlets-4.3.2 urllib3-1.24.2\n"
                }
            ], 
            "source": "!pip install --upgrade plotly "
        }, 
        {
            "execution_count": 40, 
            "cell_type": "code", 
            "metadata": {}, 
            "outputs": [
                {
                    "output_type": "stream", 
                    "name": "stdout", 
                    "text": "Collecting cufflinks==0.8.2\n  Downloading https://files.pythonhosted.org/packages/30/2b/12fa096d5b02d4af737de20ab55eb8ee9209f657af2325501cb74c99a217/cufflinks-0.8.2.tar.gz\nCollecting pandas (from cufflinks==0.8.2)\n\u001b[?25l  Downloading https://files.pythonhosted.org/packages/74/24/0cdbf8907e1e3bc5a8da03345c23cbed7044330bb8f73bb12e711a640a00/pandas-0.24.2-cp35-cp35m-manylinux1_x86_64.whl (10.0MB)\n\u001b[K    100% |################################| 10.0MB 1.1MB/s eta 0:00:01\n\u001b[?25hCollecting plotly>=1.7.6 (from cufflinks==0.8.2)\n  Using cached https://files.pythonhosted.org/packages/34/18/ef96260cb7a68cf613348cc7fe90efa4e32eaf23c46ade7032e6548e25a7/plotly-3.8.1-py2.py3-none-any.whl\nCollecting colorlover>=0.2 (from cufflinks==0.8.2)\n  Downloading https://files.pythonhosted.org/packages/9a/53/f696e4480b1d1de3b1523991dea71cf417c8b19fe70c704da164f3f90972/colorlover-0.3.0-py3-none-any.whl\nCollecting pytz>=2011k (from pandas->cufflinks==0.8.2)\n  Using cached https://files.pythonhosted.org/packages/3d/73/fe30c2daaaa0713420d0382b16fbb761409f532c56bdcc514bf7b6262bb6/pytz-2019.1-py2.py3-none-any.whl\nCollecting numpy>=1.12.0 (from pandas->cufflinks==0.8.2)\n  Using cached https://files.pythonhosted.org/packages/f6/f3/cc6c6745347c1e997cc3e58390584a250b8e22b6dfc45414a7d69a3df016/numpy-1.16.3-cp35-cp35m-manylinux1_x86_64.whl\nCollecting python-dateutil>=2.5.0 (from pandas->cufflinks==0.8.2)\n\u001b[?25l  Downloading https://files.pythonhosted.org/packages/41/17/c62faccbfbd163c7f57f3844689e3a78bae1f403648a6afb1d0866d87fbb/python_dateutil-2.8.0-py2.py3-none-any.whl (226kB)\n\u001b[K    100% |################################| 235kB 5.1MB/s eta 0:00:01\n\u001b[?25hCollecting six (from plotly>=1.7.6->cufflinks==0.8.2)\n  Using cached https://files.pythonhosted.org/packages/73/fb/00a976f728d0d1fecfe898238ce23f502a721c0ac0ecfedb80e0d88c64e9/six-1.12.0-py2.py3-none-any.whl\nCollecting retrying>=1.3.3 (from plotly>=1.7.6->cufflinks==0.8.2)\nCollecting nbformat>=4.2 (from plotly>=1.7.6->cufflinks==0.8.2)\n  Using cached https://files.pythonhosted.org/packages/da/27/9a654d2b6cc1eaa517d1c5a4405166c7f6d72f04f6e7eea41855fe808a46/nbformat-4.4.0-py2.py3-none-any.whl\nCollecting requests (from plotly>=1.7.6->cufflinks==0.8.2)\n  Using cached https://files.pythonhosted.org/packages/7d/e3/20f3d364d6c8e5d2353c72a67778eb189176f08e873c9900e10c0287b84b/requests-2.21.0-py2.py3-none-any.whl\nCollecting decorator>=4.0.6 (from plotly>=1.7.6->cufflinks==0.8.2)\n  Using cached https://files.pythonhosted.org/packages/5f/88/0075e461560a1e750a0dcbf77f1d9de775028c37a19a346a6c565a257399/decorator-4.4.0-py2.py3-none-any.whl\nCollecting jsonschema!=2.5.0,>=2.4 (from nbformat>=4.2->plotly>=1.7.6->cufflinks==0.8.2)\n  Using cached https://files.pythonhosted.org/packages/aa/69/df679dfbdd051568b53c38ec8152a3ab6bc533434fc7ed11ab034bf5e82f/jsonschema-3.0.1-py2.py3-none-any.whl\nCollecting jupyter-core (from nbformat>=4.2->plotly>=1.7.6->cufflinks==0.8.2)\n  Using cached https://files.pythonhosted.org/packages/1d/44/065d2d7bae7bebc06f1dd70d23c36da8c50c0f08b4236716743d706762a8/jupyter_core-4.4.0-py2.py3-none-any.whl\nCollecting traitlets>=4.1 (from nbformat>=4.2->plotly>=1.7.6->cufflinks==0.8.2)\n  Using cached https://files.pythonhosted.org/packages/93/d6/abcb22de61d78e2fc3959c964628a5771e47e7cc60d53e9342e21ed6cc9a/traitlets-4.3.2-py2.py3-none-any.whl\nCollecting ipython-genutils (from nbformat>=4.2->plotly>=1.7.6->cufflinks==0.8.2)\n  Using cached https://files.pythonhosted.org/packages/fa/bc/9bd3b5c2b4774d5f33b2d544f1460be9df7df2fe42f352135381c347c69a/ipython_genutils-0.2.0-py2.py3-none-any.whl\nCollecting idna<2.9,>=2.5 (from requests->plotly>=1.7.6->cufflinks==0.8.2)\n  Using cached https://files.pythonhosted.org/packages/14/2c/cd551d81dbe15200be1cf41cd03869a46fe7226e7450af7a6545bfc474c9/idna-2.8-py2.py3-none-any.whl\nCollecting chardet<3.1.0,>=3.0.2 (from requests->plotly>=1.7.6->cufflinks==0.8.2)\n  Using cached https://files.pythonhosted.org/packages/bc/a9/01ffebfb562e4274b6487b4bb1ddec7ca55ec7510b22e4c51f14098443b8/chardet-3.0.4-py2.py3-none-any.whl\nCollecting urllib3<1.25,>=1.21.1 (from requests->plotly>=1.7.6->cufflinks==0.8.2)\n  Using cached https://files.pythonhosted.org/packages/df/1c/59cca3abf96f991f2ec3131a4ffe72ae3d9ea1f5894abe8a9c5e3c77cfee/urllib3-1.24.2-py2.py3-none-any.whl\nCollecting certifi>=2017.4.17 (from requests->plotly>=1.7.6->cufflinks==0.8.2)\n  Using cached https://files.pythonhosted.org/packages/60/75/f692a584e85b7eaba0e03827b3d51f45f571c2e793dd731e598828d380aa/certifi-2019.3.9-py2.py3-none-any.whl\nCollecting setuptools (from jsonschema!=2.5.0,>=2.4->nbformat>=4.2->plotly>=1.7.6->cufflinks==0.8.2)\n  Using cached https://files.pythonhosted.org/packages/ec/51/f45cea425fd5cb0b0380f5b0f048ebc1da5b417e48d304838c02d6288a1e/setuptools-41.0.1-py2.py3-none-any.whl\nCollecting attrs>=17.4.0 (from jsonschema!=2.5.0,>=2.4->nbformat>=4.2->plotly>=1.7.6->cufflinks==0.8.2)\n  Using cached https://files.pythonhosted.org/packages/23/96/d828354fa2dbdf216eaa7b7de0db692f12c234f7ef888cc14980ef40d1d2/attrs-19.1.0-py2.py3-none-any.whl\nCollecting pyrsistent>=0.14.0 (from jsonschema!=2.5.0,>=2.4->nbformat>=4.2->plotly>=1.7.6->cufflinks==0.8.2)\nBuilding wheels for collected packages: cufflinks\n  Running setup.py bdist_wheel for cufflinks ... \u001b[?25ldone\n\u001b[?25h  Stored in directory: /home/spark/shared/.cache/pip/wheels/ae/4f/31/7f4bb7360fb0b20ff16d1fec90a604fbd52a8316c2ece9c1e2\nSuccessfully built cufflinks\nInstalling collected packages: pytz, numpy, six, python-dateutil, pandas, retrying, setuptools, attrs, pyrsistent, jsonschema, decorator, ipython-genutils, traitlets, jupyter-core, nbformat, idna, chardet, urllib3, certifi, requests, plotly, colorlover, cufflinks\nSuccessfully installed attrs-19.1.0 certifi-2019.3.9 chardet-3.0.4 colorlover-0.3.0 cufflinks-0.8.2 decorator-4.4.0 idna-2.8 ipython-genutils-0.2.0 jsonschema-3.0.1 jupyter-core-4.4.0 nbformat-4.4.0 numpy-1.16.3 pandas-0.24.2 plotly-3.8.1 pyrsistent-0.15.1 python-dateutil-2.8.0 pytz-2019.1 requests-2.21.0 retrying-1.3.3 setuptools-41.0.1 six-1.12.0 traitlets-4.3.2 urllib3-1.24.2\n"
                }
            ], 
            "source": "!pip install --upgrade cufflinks==0.8.2"
        }, 
        {
            "execution_count": 41, 
            "cell_type": "code", 
            "metadata": {}, 
            "outputs": [
                {
                    "output_type": "display_data", 
                    "data": {
                        "text/html": "        <script type=\"text/javascript\">\n        window.PlotlyConfig = {MathJaxConfig: 'local'};\n        if (window.MathJax) {MathJax.Hub.Config({SVG: {font: \"STIX-Web\"}});}\n        if (typeof require !== 'undefined') {\n        require.undef(\"plotly\");\n        requirejs.config({\n            paths: {\n                'plotly': ['https://cdn.plot.ly/plotly-latest.min']\n            }\n        });\n        require(['plotly'], function(Plotly) {\n            window._Plotly = Plotly;\n        });\n        }\n        </script>\n        "
                    }, 
                    "metadata": {}
                }
            ], 
            "source": "import sys\nimport pandas\nimport plotly.plotly as py\nfrom plotly.offline import download_plotlyjs, init_notebook_mode, plot, iplot\nimport cufflinks as cf\nimport plotly.graph_objs as go\ninit_notebook_mode(connected=True)\nsys.path.append(\"\".join([os.environ[\"HOME\"]]))"
        }, 
        {
            "execution_count": 42, 
            "cell_type": "code", 
            "metadata": {}, 
            "outputs": [], 
            "source": "predictions_pdf = predictions.select(\"prediction\", \"predictedLabel\", \"District\", \"Ward\", \"Community Area\", \"FBI Code\", \"Year\").toPandas()"
        }, 
        {
            "execution_count": 43, 
            "cell_type": "code", 
            "metadata": {}, 
            "outputs": [
                {
                    "output_type": "display_data", 
                    "data": {
                        "text/html": "<div>\n        \n        \n            <div id=\"d2c9210b-dfe6-428c-b830-81aa01b5e0eb\" class=\"plotly-graph-div\" style=\"height:525px; width:100%;\"></div>\n            <script type=\"text/javascript\">\n                require([\"plotly\"], function(Plotly) {\n                    window.PLOTLYENV=window.PLOTLYENV || {};\n                    window.PLOTLYENV.BASE_URL='https://plot.ly';\n                    \n                if (document.getElementById(\"d2c9210b-dfe6-428c-b830-81aa01b5e0eb\")) {\n                    Plotly.newPlot(\n                        'd2c9210b-dfe6-428c-b830-81aa01b5e0eb',\n                        [{\"labels\": [\"ASSAULT\", \"BATTERY\", \"BURGLARY\", \"CRIMINAL DAMAGE\", \"DECEPTIVE PRACTICE\", \"MOTOR VEHICLE THEFT\", \"NARCOTICS\", \"OTHER OFFENSE\", \"THEFT\"], \"type\": \"pie\", \"uid\": \"10478e0f-d637-4cad-976a-289b5360998b\", \"values\": [8187, 35886, 7409, 14036, 2554, 1209, 11966, 15174, 25943]}],\n                        {\"title\": {\"text\": \"Predicted crime rate in the districts\"}},\n                        {\"responsive\": true, \"showLink\": false, \"plotlyServerURL\": \"https://plot.ly\", \"linkText\": \"Export to plot.ly\"}\n                    ).then(function(){\n                            \nvar gd = document.getElementById('d2c9210b-dfe6-428c-b830-81aa01b5e0eb');\nvar x = new MutationObserver(function (mutations, observer) {{\n        var display = window.getComputedStyle(gd).display;\n        if (!display || display === 'none') {{\n            console.log([gd, 'removed!']);\n            Plotly.purge(gd);\n            observer.disconnect();\n        }}\n}});\n\n// Listen for the removal of the full notebook cells\nvar notebookContainer = gd.closest('#notebook-container');\nif (notebookContainer) {{\n    x.observe(notebookContainer, {childList: true});\n}}\n\n// Listen for the clearing of the current output cell\nvar outputEl = gd.closest('.output');\nif (outputEl) {{\n    x.observe(outputEl, {childList: true});\n}}\n\n                        })\n                };\n                });\n            </script>\n        </div>", 
                        "application/vnd.plotly.v1+json": {
                            "config": {
                                "responsive": true, 
                                "plotlyServerURL": "https://plot.ly", 
                                "linkText": "Export to plot.ly", 
                                "showLink": false
                            }, 
                            "data": [
                                {
                                    "type": "pie", 
                                    "labels": [
                                        "ASSAULT", 
                                        "BATTERY", 
                                        "BURGLARY", 
                                        "CRIMINAL DAMAGE", 
                                        "DECEPTIVE PRACTICE", 
                                        "MOTOR VEHICLE THEFT", 
                                        "NARCOTICS", 
                                        "OTHER OFFENSE", 
                                        "THEFT"
                                    ], 
                                    "values": [
                                        8187, 
                                        35886, 
                                        7409, 
                                        14036, 
                                        2554, 
                                        1209, 
                                        11966, 
                                        15174, 
                                        25943
                                    ], 
                                    "uid": "e034ca1e-fc93-4c2f-86a6-a42a16d9eca2"
                                }
                            ], 
                            "layout": {
                                "title": {
                                    "text": "Predicted crime rate in the districts"
                                }
                            }
                        }
                    }, 
                    "metadata": {}
                }
            ], 
            "source": "cumulative_stats = predictions_pdf.groupby(['predictedLabel']).count()\ndistrict_data = [go.Pie(labels=cumulative_stats.index, values=cumulative_stats['District'])]\ndistrict_layout = go.Layout(title='Predicted crime rate in the districts')\n\nfig = go.Figure(data=district_data, layout=district_layout)\niplot(fig)"
        }, 
        {
            "execution_count": 44, 
            "cell_type": "code", 
            "metadata": {}, 
            "outputs": [
                {
                    "output_type": "display_data", 
                    "data": {
                        "text/html": "<div>\n        \n        \n            <div id=\"735863a2-03cf-4ecf-b56b-cde5a819a73f\" class=\"plotly-graph-div\" style=\"height:525px; width:100%;\"></div>\n            <script type=\"text/javascript\">\n                require([\"plotly\"], function(Plotly) {\n                    window.PLOTLYENV=window.PLOTLYENV || {};\n                    window.PLOTLYENV.BASE_URL='https://plot.ly';\n                    \n                if (document.getElementById(\"735863a2-03cf-4ecf-b56b-cde5a819a73f\")) {\n                    Plotly.newPlot(\n                        '735863a2-03cf-4ecf-b56b-cde5a819a73f',\n                        [{\"labels\": [1, 2, 3, 4, 5, 6, 7, 8, 9, 10, 11, 12, 14, 15, 16, 17, 18, 19, 20, 22, 24, 25, 31], \"type\": \"pie\", \"uid\": \"cc755519-2c56-4524-b850-9c2a70405015\", \"values\": [4982, 5542, 6194, 7040, 5570, 7169, 7286, 8425, 5996, 5211, 8001, 5984, 4756, 5328, 3909, 3523, 5280, 5454, 2020, 4045, 3669, 6977, 3]}],\n                        {\"title\": {\"text\": \"Predicted crime rate in the districts\"}},\n                        {\"responsive\": true, \"showLink\": false, \"plotlyServerURL\": \"https://plot.ly\", \"linkText\": \"Export to plot.ly\"}\n                    ).then(function(){\n                            \nvar gd = document.getElementById('735863a2-03cf-4ecf-b56b-cde5a819a73f');\nvar x = new MutationObserver(function (mutations, observer) {{\n        var display = window.getComputedStyle(gd).display;\n        if (!display || display === 'none') {{\n            console.log([gd, 'removed!']);\n            Plotly.purge(gd);\n            observer.disconnect();\n        }}\n}});\n\n// Listen for the removal of the full notebook cells\nvar notebookContainer = gd.closest('#notebook-container');\nif (notebookContainer) {{\n    x.observe(notebookContainer, {childList: true});\n}}\n\n// Listen for the clearing of the current output cell\nvar outputEl = gd.closest('.output');\nif (outputEl) {{\n    x.observe(outputEl, {childList: true});\n}}\n\n                        })\n                };\n                });\n            </script>\n        </div>", 
                        "application/vnd.plotly.v1+json": {
                            "config": {
                                "responsive": true, 
                                "plotlyServerURL": "https://plot.ly", 
                                "linkText": "Export to plot.ly", 
                                "showLink": false
                            }, 
                            "data": [
                                {
                                    "type": "pie", 
                                    "labels": [
                                        1, 
                                        2, 
                                        3, 
                                        4, 
                                        5, 
                                        6, 
                                        7, 
                                        8, 
                                        9, 
                                        10, 
                                        11, 
                                        12, 
                                        14, 
                                        15, 
                                        16, 
                                        17, 
                                        18, 
                                        19, 
                                        20, 
                                        22, 
                                        24, 
                                        25, 
                                        31
                                    ], 
                                    "values": [
                                        4982, 
                                        5542, 
                                        6194, 
                                        7040, 
                                        5570, 
                                        7169, 
                                        7286, 
                                        8425, 
                                        5996, 
                                        5211, 
                                        8001, 
                                        5984, 
                                        4756, 
                                        5328, 
                                        3909, 
                                        3523, 
                                        5280, 
                                        5454, 
                                        2020, 
                                        4045, 
                                        3669, 
                                        6977, 
                                        3
                                    ], 
                                    "uid": "65337a36-2ae3-4e5d-a9d2-3565c26bc96e"
                                }
                            ], 
                            "layout": {
                                "title": {
                                    "text": "Predicted crime rate in the districts"
                                }
                            }
                        }
                    }, 
                    "metadata": {}
                }
            ], 
            "source": "cumulative_stats = predictions_pdf.groupby(['District']).count()\ndistrict_data = [go.Pie(labels=cumulative_stats.index, values=cumulative_stats['predictedLabel'])]\ndistrict_layout = go.Layout(title='Predicted crime rate in the districts')\n\nfig = go.Figure(data=district_data, layout=district_layout)\niplot(fig)"
        }, 
        {
            "execution_count": 45, 
            "cell_type": "code", 
            "metadata": {}, 
            "outputs": [
                {
                    "output_type": "display_data", 
                    "data": {
                        "text/html": "<div>\n        \n        \n            <div id=\"7e0927e4-004c-4cd3-809d-be09c605fdb1\" class=\"plotly-graph-div\" style=\"height:525px; width:100%;\"></div>\n            <script type=\"text/javascript\">\n                require([\"plotly\"], function(Plotly) {\n                    window.PLOTLYENV=window.PLOTLYENV || {};\n                    window.PLOTLYENV.BASE_URL='https://plot.ly';\n                    \n                if (document.getElementById(\"7e0927e4-004c-4cd3-809d-be09c605fdb1\")) {\n                    Plotly.newPlot(\n                        '7e0927e4-004c-4cd3-809d-be09c605fdb1',\n                        [{\"labels\": [1, 2, 3, 4, 5, 6, 7, 8, 9, 10, 11, 12, 13, 14, 15, 16, 17, 18, 19, 20, 21, 22, 23, 24, 25, 26, 27, 28, 29, 30, 31, 32, 33, 34, 35, 36, 37, 38, 39, 40, 41, 42, 43, 44, 45, 46, 47, 48, 49, 50], \"type\": \"pie\", \"uid\": \"7c840a99-9f94-4360-8447-1cd520f358db\", \"values\": [2389, 4742, 3829, 2257, 2945, 4020, 3328, 3267, 3206, 2086, 1667, 1452, 1590, 1640, 3377, 3489, 4095, 2082, 1060, 4020, 3750, 1376, 1552, 4738, 1702, 2136, 4566, 5615, 2839, 1666, 1748, 2070, 1187, 3446, 1585, 1234, 3287, 1308, 1178, 1217, 1225, 4943, 1518, 1626, 1162, 1620, 1354, 1174, 1738, 1263]}],\n                        {\"title\": {\"text\": \"Predicted crime rate in the ward\"}},\n                        {\"responsive\": true, \"showLink\": false, \"plotlyServerURL\": \"https://plot.ly\", \"linkText\": \"Export to plot.ly\"}\n                    ).then(function(){\n                            \nvar gd = document.getElementById('7e0927e4-004c-4cd3-809d-be09c605fdb1');\nvar x = new MutationObserver(function (mutations, observer) {{\n        var display = window.getComputedStyle(gd).display;\n        if (!display || display === 'none') {{\n            console.log([gd, 'removed!']);\n            Plotly.purge(gd);\n            observer.disconnect();\n        }}\n}});\n\n// Listen for the removal of the full notebook cells\nvar notebookContainer = gd.closest('#notebook-container');\nif (notebookContainer) {{\n    x.observe(notebookContainer, {childList: true});\n}}\n\n// Listen for the clearing of the current output cell\nvar outputEl = gd.closest('.output');\nif (outputEl) {{\n    x.observe(outputEl, {childList: true});\n}}\n\n                        })\n                };\n                });\n            </script>\n        </div>", 
                        "application/vnd.plotly.v1+json": {
                            "config": {
                                "responsive": true, 
                                "plotlyServerURL": "https://plot.ly", 
                                "linkText": "Export to plot.ly", 
                                "showLink": false
                            }, 
                            "data": [
                                {
                                    "type": "pie", 
                                    "labels": [
                                        1, 
                                        2, 
                                        3, 
                                        4, 
                                        5, 
                                        6, 
                                        7, 
                                        8, 
                                        9, 
                                        10, 
                                        11, 
                                        12, 
                                        13, 
                                        14, 
                                        15, 
                                        16, 
                                        17, 
                                        18, 
                                        19, 
                                        20, 
                                        21, 
                                        22, 
                                        23, 
                                        24, 
                                        25, 
                                        26, 
                                        27, 
                                        28, 
                                        29, 
                                        30, 
                                        31, 
                                        32, 
                                        33, 
                                        34, 
                                        35, 
                                        36, 
                                        37, 
                                        38, 
                                        39, 
                                        40, 
                                        41, 
                                        42, 
                                        43, 
                                        44, 
                                        45, 
                                        46, 
                                        47, 
                                        48, 
                                        49, 
                                        50
                                    ], 
                                    "values": [
                                        2389, 
                                        4742, 
                                        3829, 
                                        2257, 
                                        2945, 
                                        4020, 
                                        3328, 
                                        3267, 
                                        3206, 
                                        2086, 
                                        1667, 
                                        1452, 
                                        1590, 
                                        1640, 
                                        3377, 
                                        3489, 
                                        4095, 
                                        2082, 
                                        1060, 
                                        4020, 
                                        3750, 
                                        1376, 
                                        1552, 
                                        4738, 
                                        1702, 
                                        2136, 
                                        4566, 
                                        5615, 
                                        2839, 
                                        1666, 
                                        1748, 
                                        2070, 
                                        1187, 
                                        3446, 
                                        1585, 
                                        1234, 
                                        3287, 
                                        1308, 
                                        1178, 
                                        1217, 
                                        1225, 
                                        4943, 
                                        1518, 
                                        1626, 
                                        1162, 
                                        1620, 
                                        1354, 
                                        1174, 
                                        1738, 
                                        1263
                                    ], 
                                    "uid": "95783a7d-3eaa-4dc6-81b1-479e41cffb28"
                                }
                            ], 
                            "layout": {
                                "title": {
                                    "text": "Predicted crime rate in the ward"
                                }
                            }
                        }
                    }, 
                    "metadata": {}
                }
            ], 
            "source": "cumulative_stats = predictions_pdf.groupby(['Ward']).count()\nward_data = [go.Pie(labels=cumulative_stats.index, values=cumulative_stats['predictedLabel'])]\nward_layout = go.Layout(title='Predicted crime rate in the ward')\n\nfig = go.Figure(data=ward_data, layout=ward_layout)\niplot(fig)"
        }, 
        {
            "execution_count": 46, 
            "cell_type": "code", 
            "metadata": {}, 
            "outputs": [
                {
                    "output_type": "display_data", 
                    "data": {
                        "text/html": "<div>\n        \n        \n            <div id=\"b257b04e-4c8a-4e00-ae8e-e3c03052e923\" class=\"plotly-graph-div\" style=\"height:525px; width:100%;\"></div>\n            <script type=\"text/javascript\">\n                require([\"plotly\"], function(Plotly) {\n                    window.PLOTLYENV=window.PLOTLYENV || {};\n                    window.PLOTLYENV.BASE_URL='https://plot.ly';\n                    \n                if (document.getElementById(\"b257b04e-4c8a-4e00-ae8e-e3c03052e923\")) {\n                    Plotly.newPlot(\n                        'b257b04e-4c8a-4e00-ae8e-e3c03052e923',\n                        [{\"labels\": [0, 1, 2, 3, 4, 5, 6, 7, 8, 9, 10, 11, 12, 13, 14, 15, 16, 17, 18, 19, 20, 21, 22, 23, 24, 25, 26, 27, 28, 29, 30, 31, 32, 33, 34, 35, 36, 37, 38, 39, 40, 41, 42, 43, 44, 45, 46, 47, 48, 49, 50, 51, 52, 53, 54, 55, 56, 57, 58, 59, 60, 61, 62, 63, 64, 65, 66, 67, 68, 69, 70, 71, 72, 73, 74, 75, 76, 77], \"type\": \"pie\", \"uid\": \"e7869add-613a-4531-a9ae-eb56d851c0da\", \"values\": [1, 1905, 1537, 1829, 838, 728, 2379, 1906, 4150, 123, 508, 458, 212, 421, 1108, 1507, 1346, 738, 294, 2267, 724, 1134, 2548, 3920, 3659, 7791, 2250, 2388, 3636, 3481, 2018, 1209, 2949, 928, 479, 1357, 264, 434, 1706, 679, 1366, 750, 1973, 3958, 2605, 637, 2266, 204, 669, 3320, 546, 837, 627, 2037, 555, 264, 987, 407, 1123, 496, 802, 2465, 486, 1168, 483, 958, 3109, 3539, 3307, 3048, 1117, 3550, 441, 1457, 283, 924, 646, 1145]}],\n                        {\"title\": {\"text\": \"Predicted crime rate in Community Area\"}},\n                        {\"responsive\": true, \"showLink\": false, \"plotlyServerURL\": \"https://plot.ly\", \"linkText\": \"Export to plot.ly\"}\n                    ).then(function(){\n                            \nvar gd = document.getElementById('b257b04e-4c8a-4e00-ae8e-e3c03052e923');\nvar x = new MutationObserver(function (mutations, observer) {{\n        var display = window.getComputedStyle(gd).display;\n        if (!display || display === 'none') {{\n            console.log([gd, 'removed!']);\n            Plotly.purge(gd);\n            observer.disconnect();\n        }}\n}});\n\n// Listen for the removal of the full notebook cells\nvar notebookContainer = gd.closest('#notebook-container');\nif (notebookContainer) {{\n    x.observe(notebookContainer, {childList: true});\n}}\n\n// Listen for the clearing of the current output cell\nvar outputEl = gd.closest('.output');\nif (outputEl) {{\n    x.observe(outputEl, {childList: true});\n}}\n\n                        })\n                };\n                });\n            </script>\n        </div>", 
                        "application/vnd.plotly.v1+json": {
                            "config": {
                                "responsive": true, 
                                "plotlyServerURL": "https://plot.ly", 
                                "linkText": "Export to plot.ly", 
                                "showLink": false
                            }, 
                            "data": [
                                {
                                    "type": "pie", 
                                    "labels": [
                                        0, 
                                        1, 
                                        2, 
                                        3, 
                                        4, 
                                        5, 
                                        6, 
                                        7, 
                                        8, 
                                        9, 
                                        10, 
                                        11, 
                                        12, 
                                        13, 
                                        14, 
                                        15, 
                                        16, 
                                        17, 
                                        18, 
                                        19, 
                                        20, 
                                        21, 
                                        22, 
                                        23, 
                                        24, 
                                        25, 
                                        26, 
                                        27, 
                                        28, 
                                        29, 
                                        30, 
                                        31, 
                                        32, 
                                        33, 
                                        34, 
                                        35, 
                                        36, 
                                        37, 
                                        38, 
                                        39, 
                                        40, 
                                        41, 
                                        42, 
                                        43, 
                                        44, 
                                        45, 
                                        46, 
                                        47, 
                                        48, 
                                        49, 
                                        50, 
                                        51, 
                                        52, 
                                        53, 
                                        54, 
                                        55, 
                                        56, 
                                        57, 
                                        58, 
                                        59, 
                                        60, 
                                        61, 
                                        62, 
                                        63, 
                                        64, 
                                        65, 
                                        66, 
                                        67, 
                                        68, 
                                        69, 
                                        70, 
                                        71, 
                                        72, 
                                        73, 
                                        74, 
                                        75, 
                                        76, 
                                        77
                                    ], 
                                    "values": [
                                        1, 
                                        1905, 
                                        1537, 
                                        1829, 
                                        838, 
                                        728, 
                                        2379, 
                                        1906, 
                                        4150, 
                                        123, 
                                        508, 
                                        458, 
                                        212, 
                                        421, 
                                        1108, 
                                        1507, 
                                        1346, 
                                        738, 
                                        294, 
                                        2267, 
                                        724, 
                                        1134, 
                                        2548, 
                                        3920, 
                                        3659, 
                                        7791, 
                                        2250, 
                                        2388, 
                                        3636, 
                                        3481, 
                                        2018, 
                                        1209, 
                                        2949, 
                                        928, 
                                        479, 
                                        1357, 
                                        264, 
                                        434, 
                                        1706, 
                                        679, 
                                        1366, 
                                        750, 
                                        1973, 
                                        3958, 
                                        2605, 
                                        637, 
                                        2266, 
                                        204, 
                                        669, 
                                        3320, 
                                        546, 
                                        837, 
                                        627, 
                                        2037, 
                                        555, 
                                        264, 
                                        987, 
                                        407, 
                                        1123, 
                                        496, 
                                        802, 
                                        2465, 
                                        486, 
                                        1168, 
                                        483, 
                                        958, 
                                        3109, 
                                        3539, 
                                        3307, 
                                        3048, 
                                        1117, 
                                        3550, 
                                        441, 
                                        1457, 
                                        283, 
                                        924, 
                                        646, 
                                        1145
                                    ], 
                                    "uid": "86d3347d-29fc-4cb5-a713-e3cad1fb296a"
                                }
                            ], 
                            "layout": {
                                "title": {
                                    "text": "Predicted crime rate in Community Area"
                                }
                            }
                        }
                    }, 
                    "metadata": {}
                }
            ], 
            "source": "cumulative_stats = predictions_pdf.groupby(['Community Area']).count()\ncomm_data = [go.Pie(labels=cumulative_stats.index, values=cumulative_stats['predictedLabel'])]\ncomm_layout = go.Layout(title='Predicted crime rate in Community Area')\n\nfig = go.Figure(data=comm_data, layout=comm_layout)\niplot(fig)"
        }, 
        {
            "execution_count": 47, 
            "cell_type": "code", 
            "metadata": {}, 
            "outputs": [
                {
                    "output_type": "display_data", 
                    "data": {
                        "text/html": "<div>\n        \n        \n            <div id=\"fad5c2fa-c32c-413a-9d84-459a77b97465\" class=\"plotly-graph-div\" style=\"height:525px; width:100%;\"></div>\n            <script type=\"text/javascript\">\n                require([\"plotly\"], function(Plotly) {\n                    window.PLOTLYENV=window.PLOTLYENV || {};\n                    window.PLOTLYENV.BASE_URL='https://plot.ly';\n                    \n                if (document.getElementById(\"fad5c2fa-c32c-413a-9d84-459a77b97465\")) {\n                    Plotly.newPlot(\n                        'fad5c2fa-c32c-413a-9d84-459a77b97465',\n                        [{\"labels\": [\"01A\", \"01B\", \"02\", \"03\", \"04A\", \"04B\", \"05\", \"06\", \"07\", \"08A\", \"08B\", \"09\", \"10\", \"11\", \"12\", \"13\", \"14\", \"15\", \"16\", \"17\", \"18\", \"19\", \"20\", \"22\", \"24\", \"26\"], \"type\": \"pie\", \"uid\": \"a6fb9d51-700a-463a-a273-cb533d6356ab\", \"values\": [156, 1, 497, 4670, 1932, 3297, 7052, 25943, 5649, 5812, 19148, 231, 701, 3967, 23, 38, 14036, 1293, 1195, 504, 11966, 276, 493, 193, 906, 12385]}],\n                        {\"title\": {\"text\": \"Predicted crime rate with the FBI Code\"}},\n                        {\"responsive\": true, \"showLink\": false, \"plotlyServerURL\": \"https://plot.ly\", \"linkText\": \"Export to plot.ly\"}\n                    ).then(function(){\n                            \nvar gd = document.getElementById('fad5c2fa-c32c-413a-9d84-459a77b97465');\nvar x = new MutationObserver(function (mutations, observer) {{\n        var display = window.getComputedStyle(gd).display;\n        if (!display || display === 'none') {{\n            console.log([gd, 'removed!']);\n            Plotly.purge(gd);\n            observer.disconnect();\n        }}\n}});\n\n// Listen for the removal of the full notebook cells\nvar notebookContainer = gd.closest('#notebook-container');\nif (notebookContainer) {{\n    x.observe(notebookContainer, {childList: true});\n}}\n\n// Listen for the clearing of the current output cell\nvar outputEl = gd.closest('.output');\nif (outputEl) {{\n    x.observe(outputEl, {childList: true});\n}}\n\n                        })\n                };\n                });\n            </script>\n        </div>", 
                        "application/vnd.plotly.v1+json": {
                            "config": {
                                "responsive": true, 
                                "plotlyServerURL": "https://plot.ly", 
                                "linkText": "Export to plot.ly", 
                                "showLink": false
                            }, 
                            "data": [
                                {
                                    "type": "pie", 
                                    "labels": [
                                        "01A", 
                                        "01B", 
                                        "02", 
                                        "03", 
                                        "04A", 
                                        "04B", 
                                        "05", 
                                        "06", 
                                        "07", 
                                        "08A", 
                                        "08B", 
                                        "09", 
                                        "10", 
                                        "11", 
                                        "12", 
                                        "13", 
                                        "14", 
                                        "15", 
                                        "16", 
                                        "17", 
                                        "18", 
                                        "19", 
                                        "20", 
                                        "22", 
                                        "24", 
                                        "26"
                                    ], 
                                    "values": [
                                        156, 
                                        1, 
                                        497, 
                                        4670, 
                                        1932, 
                                        3297, 
                                        7052, 
                                        25943, 
                                        5649, 
                                        5812, 
                                        19148, 
                                        231, 
                                        701, 
                                        3967, 
                                        23, 
                                        38, 
                                        14036, 
                                        1293, 
                                        1195, 
                                        504, 
                                        11966, 
                                        276, 
                                        493, 
                                        193, 
                                        906, 
                                        12385
                                    ], 
                                    "uid": "a3032efc-28a0-4543-85e1-deebb9293fdd"
                                }
                            ], 
                            "layout": {
                                "title": {
                                    "text": "Predicted crime rate with the FBI Code"
                                }
                            }
                        }
                    }, 
                    "metadata": {}
                }
            ], 
            "source": "cumulative_stats1 = predictions_pdf.groupby(['FBI Code']).count()\nfbi_data = [go.Pie(labels=cumulative_stats1.index, values=cumulative_stats1['predictedLabel'])]\nfbi_layout = go.Layout(title='Predicted crime rate with the FBI Code')\n\nfig = go.Figure(data=fbi_data, layout=fbi_layout)\niplot(fig)"
        }, 
        {
            "execution_count": 48, 
            "cell_type": "code", 
            "metadata": {}, 
            "outputs": [
                {
                    "output_type": "display_data", 
                    "data": {
                        "text/html": "<div>\n        \n        \n            <div id=\"e502126c-58e9-4ba7-8d81-f3f9d391fa7d\" class=\"plotly-graph-div\" style=\"height:525px; width:100%;\"></div>\n            <script type=\"text/javascript\">\n                require([\"plotly\"], function(Plotly) {\n                    window.PLOTLYENV=window.PLOTLYENV || {};\n                    window.PLOTLYENV.BASE_URL='https://plot.ly';\n                    \n                if (document.getElementById(\"e502126c-58e9-4ba7-8d81-f3f9d391fa7d\")) {\n                    Plotly.newPlot(\n                        'e502126c-58e9-4ba7-8d81-f3f9d391fa7d',\n                        [{\"type\": \"bar\", \"uid\": \"85d44ec6-15a0-4db3-854b-d52a6b4e162f\", \"x\": [0, 1, 2, 3, 4, 5, 6, 7, 8, 9, 10, 11, 12, 13, 14, 15, 16, 17, 18, 19, 20, 21, 22, 23, 24, 25, 26, 27, 28, 29, 30, 31, 32, 33, 34, 35, 36, 37, 38, 39, 40, 41, 42, 43, 44, 45, 46, 47, 48, 49, 50, 51, 52, 53, 54, 55, 56, 57, 58, 59, 60, 61, 62, 63, 64, 65, 66, 67, 68, 69, 70, 71, 72, 73, 74, 75, 76, 77], \"y\": [2009.1835837303042, 2009.2021958423898, 2009.0093129977056, 2009.0386862353946, 2010.4498825371966, 2009.4226633581472, 2008.4338124686612, 2008.984117569527, 2009.45372547508]}],\n                        {\"title\": {\"text\": \"Number of Primary Type crimes taken place in the years\"}, \"xaxis\": {\"showline\": false, \"title\": {\"text\": \"Primary Type\"}}, \"yaxis\": {\"title\": {\"text\": \"Year\"}}},\n                        {\"responsive\": true, \"showLink\": false, \"plotlyServerURL\": \"https://plot.ly\", \"linkText\": \"Export to plot.ly\"}\n                    ).then(function(){\n                            \nvar gd = document.getElementById('e502126c-58e9-4ba7-8d81-f3f9d391fa7d');\nvar x = new MutationObserver(function (mutations, observer) {{\n        var display = window.getComputedStyle(gd).display;\n        if (!display || display === 'none') {{\n            console.log([gd, 'removed!']);\n            Plotly.purge(gd);\n            observer.disconnect();\n        }}\n}});\n\n// Listen for the removal of the full notebook cells\nvar notebookContainer = gd.closest('#notebook-container');\nif (notebookContainer) {{\n    x.observe(notebookContainer, {childList: true});\n}}\n\n// Listen for the clearing of the current output cell\nvar outputEl = gd.closest('.output');\nif (outputEl) {{\n    x.observe(outputEl, {childList: true});\n}}\n\n                        })\n                };\n                });\n            </script>\n        </div>", 
                        "application/vnd.plotly.v1+json": {
                            "config": {
                                "responsive": true, 
                                "plotlyServerURL": "https://plot.ly", 
                                "linkText": "Export to plot.ly", 
                                "showLink": false
                            }, 
                            "data": [
                                {
                                    "y": [
                                        2009.1835837303042, 
                                        2009.2021958423898, 
                                        2009.0093129977056, 
                                        2009.0386862353946, 
                                        2010.4498825371966, 
                                        2009.4226633581472, 
                                        2008.4338124686612, 
                                        2008.984117569527, 
                                        2009.45372547508
                                    ], 
                                    "x": [
                                        0, 
                                        1, 
                                        2, 
                                        3, 
                                        4, 
                                        5, 
                                        6, 
                                        7, 
                                        8, 
                                        9, 
                                        10, 
                                        11, 
                                        12, 
                                        13, 
                                        14, 
                                        15, 
                                        16, 
                                        17, 
                                        18, 
                                        19, 
                                        20, 
                                        21, 
                                        22, 
                                        23, 
                                        24, 
                                        25, 
                                        26, 
                                        27, 
                                        28, 
                                        29, 
                                        30, 
                                        31, 
                                        32, 
                                        33, 
                                        34, 
                                        35, 
                                        36, 
                                        37, 
                                        38, 
                                        39, 
                                        40, 
                                        41, 
                                        42, 
                                        43, 
                                        44, 
                                        45, 
                                        46, 
                                        47, 
                                        48, 
                                        49, 
                                        50, 
                                        51, 
                                        52, 
                                        53, 
                                        54, 
                                        55, 
                                        56, 
                                        57, 
                                        58, 
                                        59, 
                                        60, 
                                        61, 
                                        62, 
                                        63, 
                                        64, 
                                        65, 
                                        66, 
                                        67, 
                                        68, 
                                        69, 
                                        70, 
                                        71, 
                                        72, 
                                        73, 
                                        74, 
                                        75, 
                                        76, 
                                        77
                                    ], 
                                    "type": "bar", 
                                    "uid": "424d9127-e5a9-4cd0-9bdc-b78408ab6341"
                                }
                            ], 
                            "layout": {
                                "title": {
                                    "text": "Number of Primary Type crimes taken place in the years"
                                }, 
                                "xaxis": {
                                    "showline": false, 
                                    "title": {
                                        "text": "Primary Type"
                                    }
                                }, 
                                "yaxis": {
                                    "title": {
                                        "text": "Year"
                                    }
                                }
                            }
                        }
                    }, 
                    "metadata": {}
                }
            ], 
            "source": "year_data = [go.Bar(y=predictions_pdf.groupby(['predictedLabel']).mean()[\"Year\"], x=cumulative_stats.index)]\n\nyear_layout = go.Layout(\n    title='Number of Primary Type crimes taken place in the years',\n    xaxis=dict(title = \"Primary Type\", showline=False),\n    yaxis=dict(title = \"Year\"))\n\nfig = go.Figure(data=year_data, layout=year_layout)\niplot(fig)"
        }, 
        {
            "execution_count": 49, 
            "cell_type": "code", 
            "metadata": {}, 
            "outputs": [
                {
                    "output_type": "display_data", 
                    "data": {
                        "text/html": "<div>\n        \n        \n            <div id=\"017046f5-4a7b-45af-9662-96eee2bba7d4\" class=\"plotly-graph-div\" style=\"height:525px; width:100%;\"></div>\n            <script type=\"text/javascript\">\n                require([\"plotly\"], function(Plotly) {\n                    window.PLOTLYENV=window.PLOTLYENV || {};\n                    window.PLOTLYENV.BASE_URL='https://plot.ly';\n                    \n                if (document.getElementById(\"017046f5-4a7b-45af-9662-96eee2bba7d4\")) {\n                    Plotly.newPlot(\n                        '017046f5-4a7b-45af-9662-96eee2bba7d4',\n                        [{\"labels\": [2001, 2002, 2003, 2004, 2005, 2006, 2007, 2008, 2009, 2010, 2011, 2012, 2013, 2014, 2015, 2016, 2017, 2018, 2019], \"type\": \"pie\", \"uid\": \"80f0fabf-58eb-4fd9-b6c9-cdf1b6a4f886\", \"values\": [70, 6888, 9435, 9333, 8935, 8991, 8475, 8362, 7578, 7264, 6986, 6545, 6197, 5519, 5135, 5428, 5244, 5386, 593]}],\n                        {\"title\": {\"text\": \"Predicted crime rate based on the year\"}},\n                        {\"responsive\": true, \"showLink\": false, \"plotlyServerURL\": \"https://plot.ly\", \"linkText\": \"Export to plot.ly\"}\n                    ).then(function(){\n                            \nvar gd = document.getElementById('017046f5-4a7b-45af-9662-96eee2bba7d4');\nvar x = new MutationObserver(function (mutations, observer) {{\n        var display = window.getComputedStyle(gd).display;\n        if (!display || display === 'none') {{\n            console.log([gd, 'removed!']);\n            Plotly.purge(gd);\n            observer.disconnect();\n        }}\n}});\n\n// Listen for the removal of the full notebook cells\nvar notebookContainer = gd.closest('#notebook-container');\nif (notebookContainer) {{\n    x.observe(notebookContainer, {childList: true});\n}}\n\n// Listen for the clearing of the current output cell\nvar outputEl = gd.closest('.output');\nif (outputEl) {{\n    x.observe(outputEl, {childList: true});\n}}\n\n                        })\n                };\n                });\n            </script>\n        </div>", 
                        "application/vnd.plotly.v1+json": {
                            "config": {
                                "responsive": true, 
                                "plotlyServerURL": "https://plot.ly", 
                                "linkText": "Export to plot.ly", 
                                "showLink": false
                            }, 
                            "data": [
                                {
                                    "type": "pie", 
                                    "labels": [
                                        2001, 
                                        2002, 
                                        2003, 
                                        2004, 
                                        2005, 
                                        2006, 
                                        2007, 
                                        2008, 
                                        2009, 
                                        2010, 
                                        2011, 
                                        2012, 
                                        2013, 
                                        2014, 
                                        2015, 
                                        2016, 
                                        2017, 
                                        2018, 
                                        2019
                                    ], 
                                    "values": [
                                        70, 
                                        6888, 
                                        9435, 
                                        9333, 
                                        8935, 
                                        8991, 
                                        8475, 
                                        8362, 
                                        7578, 
                                        7264, 
                                        6986, 
                                        6545, 
                                        6197, 
                                        5519, 
                                        5135, 
                                        5428, 
                                        5244, 
                                        5386, 
                                        593
                                    ], 
                                    "uid": "558136b6-c392-4c4c-9323-865fe85e6def"
                                }
                            ], 
                            "layout": {
                                "title": {
                                    "text": "Predicted crime rate based on the year"
                                }
                            }
                        }
                    }, 
                    "metadata": {}
                }
            ], 
            "source": "cumulative_stats = predictions_pdf.groupby(['Year']).count()\nyear_data = [go.Pie(labels=cumulative_stats.index, values=cumulative_stats['predictedLabel'])]\nyear_layout = go.Layout(title='Predicted crime rate based on the year')\n\nfig = go.Figure(data=year_data, layout=year_layout)\niplot(fig)"
        }
    ], 
    "metadata": {
        "kernelspec": {
            "display_name": "Python 3.5 with Spark", 
            "name": "python3", 
            "language": "python3"
        }, 
        "language_info": {
            "mimetype": "text/x-python", 
            "nbconvert_exporter": "python", 
            "version": "3.5.4", 
            "name": "python", 
            "file_extension": ".py", 
            "pygments_lexer": "ipython3", 
            "codemirror_mode": {
                "version": 3, 
                "name": "ipython"
            }
        }
    }, 
    "nbformat": 4
}