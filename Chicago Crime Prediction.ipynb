{
    "nbformat_minor": 1, 
    "cells": [
        {
            "execution_count": 1, 
            "cell_type": "code", 
            "metadata": {}, 
            "outputs": [
                {
                    "output_type": "stream", 
                    "name": "stdout", 
                    "text": "Waiting for a Spark session to start...\nSpark Initialization Done! ApplicationId = app-20190307040406-0000\nKERNEL_ID = 2c95fd58-a014-4250-aa8a-a3c4c7463094\nCollecting wget\n  Downloading https://files.pythonhosted.org/packages/47/6a/62e288da7bcda82b935ff0c6cfe542970f04e29c756b0e147251b2fb251f/wget-3.2.zip\nBuilding wheels for collected packages: wget\n  Running setup.py bdist_wheel for wget ... \u001b[?25ldone\n\u001b[?25h  Stored in directory: /home/spark/shared/.cache/pip/wheels/40/15/30/7d8f7cea2902b4db79e3fea550d7d7b85ecb27ef992b618f3f\nSuccessfully built wget\n\u001b[31mpyspark 2.3.0 requires py4j==0.10.6, which is not installed.\u001b[0m\n\u001b[31mtensorflow 1.3.0 requires tensorflow-tensorboard<0.2.0,>=0.1.0, which is not installed.\u001b[0m\nInstalling collected packages: wget\nSuccessfully installed wget-3.2\n"
                }
            ], 
            "source": "!pip install wget"
        }, 
        {
            "execution_count": 2, 
            "cell_type": "code", 
            "metadata": {}, 
            "outputs": [
                {
                    "output_type": "stream", 
                    "name": "stdout", 
                    "text": "Collecting tensorflow\n\u001b[?25l  Downloading https://files.pythonhosted.org/packages/ca/f2/0931c194bb98398017d52c94ee30e5e1a4082ab6af76e204856ff1fdb33e/tensorflow-1.13.1-cp35-cp35m-manylinux1_x86_64.whl (92.5MB)\n\u001b[K    100% |################################| 92.5MB 235kB/s eta 0:00:01\n\u001b[?25hCollecting termcolor>=1.1.0 (from tensorflow)\n  Downloading https://files.pythonhosted.org/packages/8a/48/a76be51647d0eb9f10e2a4511bf3ffb8cc1e6b14e9e4fab46173aa79f981/termcolor-1.1.0.tar.gz\nCollecting six>=1.10.0 (from tensorflow)\n  Downloading https://files.pythonhosted.org/packages/73/fb/00a976f728d0d1fecfe898238ce23f502a721c0ac0ecfedb80e0d88c64e9/six-1.12.0-py2.py3-none-any.whl\nCollecting numpy>=1.13.3 (from tensorflow)\n\u001b[?25l  Downloading https://files.pythonhosted.org/packages/e3/18/4f013c3c3051f4e0ffbaa4bf247050d6d5e527fe9cb1907f5975b172f23f/numpy-1.16.2-cp35-cp35m-manylinux1_x86_64.whl (17.2MB)\n\u001b[K    100% |################################| 17.2MB 951kB/s eta 0:00:01\n\u001b[?25hCollecting keras-preprocessing>=1.0.5 (from tensorflow)\n\u001b[?25l  Downloading https://files.pythonhosted.org/packages/c0/bf/0315ef6a9fd3fc2346e85b0ff1f5f83ca17073f2c31ac719ab2e4da0d4a3/Keras_Preprocessing-1.0.9-py2.py3-none-any.whl (59kB)\n\u001b[K    100% |################################| 61kB 2.4MB/s eta 0:00:01\n\u001b[?25hCollecting gast>=0.2.0 (from tensorflow)\n  Downloading https://files.pythonhosted.org/packages/4e/35/11749bf99b2d4e3cceb4d55ca22590b0d7c2c62b9de38ac4a4a7f4687421/gast-0.2.2.tar.gz\nCollecting tensorflow-estimator<1.14.0rc0,>=1.13.0 (from tensorflow)\n\u001b[?25l  Downloading https://files.pythonhosted.org/packages/bb/48/13f49fc3fa0fdf916aa1419013bb8f2ad09674c275b4046d5ee669a46873/tensorflow_estimator-1.13.0-py2.py3-none-any.whl (367kB)\n\u001b[K    100% |################################| 368kB 4.1MB/s eta 0:00:01\n\u001b[?25hCollecting protobuf>=3.6.1 (from tensorflow)\n\u001b[?25l  Downloading https://files.pythonhosted.org/packages/f0/b4/0acb16276b92d0dabe3e97bf361b5ff9922d2071c497b92dde4741d4eeb4/protobuf-3.7.0-cp35-cp35m-manylinux1_x86_64.whl (1.2MB)\n\u001b[K    100% |################################| 1.2MB 3.3MB/s eta 0:00:01\n\u001b[?25hCollecting absl-py>=0.1.6 (from tensorflow)\n\u001b[?25l  Downloading https://files.pythonhosted.org/packages/31/bc/ab68120d1d89ae23b694a55fe2aece2f91194313b71f9b05a80b32d3c24b/absl-py-0.7.0.tar.gz (96kB)\n\u001b[K    100% |################################| 102kB 3.7MB/s ta 0:00:01\n\u001b[?25hCollecting keras-applications>=1.0.6 (from tensorflow)\n\u001b[?25l  Downloading https://files.pythonhosted.org/packages/90/85/64c82949765cfb246bbdaf5aca2d55f400f792655927a017710a78445def/Keras_Applications-1.0.7-py2.py3-none-any.whl (51kB)\n\u001b[K    100% |################################| 61kB 2.8MB/s eta 0:00:01\n\u001b[?25hCollecting tensorboard<1.14.0,>=1.13.0 (from tensorflow)\n\u001b[?25l  Downloading https://files.pythonhosted.org/packages/0f/39/bdd75b08a6fba41f098b6cb091b9e8c7a80e1b4d679a581a0ccd17b10373/tensorboard-1.13.1-py3-none-any.whl (3.2MB)\n\u001b[K    100% |################################| 3.2MB 2.7MB/s eta 0:00:01\n\u001b[?25hCollecting astor>=0.6.0 (from tensorflow)\n  Downloading https://files.pythonhosted.org/packages/35/6b/11530768cac581a12952a2aad00e1526b89d242d0b9f59534ef6e6a1752f/astor-0.7.1-py2.py3-none-any.whl\nCollecting grpcio>=1.8.6 (from tensorflow)\n\u001b[?25l  Downloading https://files.pythonhosted.org/packages/0e/fd/e6696e5b115f328c382dd88414168e2b918cb7153b59dc9228d3c15e356c/grpcio-1.19.0-cp35-cp35m-manylinux1_x86_64.whl (10.8MB)\n\u001b[K    100% |################################| 10.8MB 1.6MB/s eta 0:00:01\n\u001b[?25hCollecting wheel>=0.26 (from tensorflow)\n  Downloading https://files.pythonhosted.org/packages/96/ba/a4702cbb6a3a485239fbe9525443446203f00771af9ac000fa3ef2788201/wheel-0.33.1-py2.py3-none-any.whl\nCollecting mock>=2.0.0 (from tensorflow-estimator<1.14.0rc0,>=1.13.0->tensorflow)\n\u001b[?25l  Downloading https://files.pythonhosted.org/packages/e6/35/f187bdf23be87092bd0f1200d43d23076cee4d0dec109f195173fd3ebc79/mock-2.0.0-py2.py3-none-any.whl (56kB)\n\u001b[K    100% |################################| 61kB 2.4MB/s eta 0:00:01\n\u001b[?25hCollecting setuptools (from protobuf>=3.6.1->tensorflow)\n\u001b[?25l  Downloading https://files.pythonhosted.org/packages/d1/6a/4b2fcefd2ea0868810e92d519dacac1ddc64a2e53ba9e3422c3b62b378a6/setuptools-40.8.0-py2.py3-none-any.whl (575kB)\n\u001b[K    100% |################################| 583kB 4.1MB/s eta 0:00:01\n\u001b[?25hCollecting h5py (from keras-applications>=1.0.6->tensorflow)\n\u001b[?25l  Downloading https://files.pythonhosted.org/packages/4c/77/c4933e12dca0f61bcdafc207c7532e1250b8d12719459fd85132f3daa9fd/h5py-2.9.0-cp35-cp35m-manylinux1_x86_64.whl (2.8MB)\n\u001b[K    100% |################################| 2.8MB 3.1MB/s eta 0:00:01\n\u001b[?25hCollecting markdown>=2.6.8 (from tensorboard<1.14.0,>=1.13.0->tensorflow)\n\u001b[?25l  Downloading https://files.pythonhosted.org/packages/7a/6b/5600647404ba15545ec37d2f7f58844d690baf2f81f3a60b862e48f29287/Markdown-3.0.1-py2.py3-none-any.whl (89kB)\n\u001b[K    100% |################################| 92kB 4.1MB/s eta 0:00:01\n\u001b[?25hCollecting werkzeug>=0.11.15 (from tensorboard<1.14.0,>=1.13.0->tensorflow)\n\u001b[?25l  Downloading https://files.pythonhosted.org/packages/20/c4/12e3e56473e52375aa29c4764e70d1b8f3efa6682bef8d0aae04fe335243/Werkzeug-0.14.1-py2.py3-none-any.whl (322kB)\n\u001b[K    100% |################################| 327kB 4.2MB/s eta 0:00:01\n\u001b[?25hCollecting pbr>=0.11 (from mock>=2.0.0->tensorflow-estimator<1.14.0rc0,>=1.13.0->tensorflow)\n\u001b[?25l  Downloading https://files.pythonhosted.org/packages/14/09/12fe9a14237a6b7e0ba3a8d6fcf254bf4b10ec56a0185f73d651145e9222/pbr-5.1.3-py2.py3-none-any.whl (107kB)\n\u001b[K    100% |################################| 112kB 4.3MB/s eta 0:00:01\n\u001b[?25hBuilding wheels for collected packages: termcolor, gast, absl-py\n  Running setup.py bdist_wheel for termcolor ... \u001b[?25ldone\n\u001b[?25h  Stored in directory: /home/spark/shared/.cache/pip/wheels/7c/06/54/bc84598ba1daf8f970247f550b175aaaee85f68b4b0c5ab2c6\n  Running setup.py bdist_wheel for gast ... \u001b[?25ldone\n\u001b[?25h  Stored in directory: /home/spark/shared/.cache/pip/wheels/5c/2e/7e/a1d4d4fcebe6c381f378ce7743a3ced3699feb89bcfbdadadd\n  Running setup.py bdist_wheel for absl-py ... \u001b[?25ldone\n\u001b[?25h  Stored in directory: /home/spark/shared/.cache/pip/wheels/90/db/f8/2c3101f72ef1ad434e4662853174126ce30201a3e163dcbeca\nSuccessfully built termcolor gast absl-py\n\u001b[31mpyspark 2.3.0 requires py4j==0.10.6, which is not installed.\u001b[0m\nInstalling collected packages: termcolor, six, numpy, keras-preprocessing, gast, pbr, mock, absl-py, tensorflow-estimator, setuptools, protobuf, h5py, keras-applications, markdown, werkzeug, wheel, grpcio, tensorboard, astor, tensorflow\nSuccessfully installed absl-py-0.7.0 astor-0.7.1 gast-0.2.2 grpcio-1.19.0 h5py-2.9.0 keras-applications-1.0.7 keras-preprocessing-1.0.9 markdown-3.0.1 mock-2.0.0 numpy-1.16.2 pbr-5.1.3 protobuf-3.7.0 setuptools-40.8.0 six-1.12.0 tensorboard-1.13.1 tensorflow-1.13.1 tensorflow-estimator-1.13.0 termcolor-1.1.0 werkzeug-0.14.1 wheel-0.33.1\n\u001b[33mTarget directory /home/spark/shared/user-libs/python3/__pycache__ already exists. Specify --upgrade to force replacement.\u001b[0m\n"
                }
            ], 
            "source": "!pip install tensorflow"
        }, 
        {
            "execution_count": 3, 
            "cell_type": "code", 
            "metadata": {}, 
            "outputs": [
                {
                    "output_type": "stream", 
                    "name": "stdout", 
                    "text": "Collecting tensorflow\n  Using cached https://files.pythonhosted.org/packages/ca/f2/0931c194bb98398017d52c94ee30e5e1a4082ab6af76e204856ff1fdb33e/tensorflow-1.13.1-cp35-cp35m-manylinux1_x86_64.whl\nCollecting protobuf>=3.6.1 (from tensorflow)\n  Using cached https://files.pythonhosted.org/packages/f0/b4/0acb16276b92d0dabe3e97bf361b5ff9922d2071c497b92dde4741d4eeb4/protobuf-3.7.0-cp35-cp35m-manylinux1_x86_64.whl\nCollecting tensorboard<1.14.0,>=1.13.0 (from tensorflow)\n  Using cached https://files.pythonhosted.org/packages/0f/39/bdd75b08a6fba41f098b6cb091b9e8c7a80e1b4d679a581a0ccd17b10373/tensorboard-1.13.1-py3-none-any.whl\nCollecting grpcio>=1.8.6 (from tensorflow)\n  Using cached https://files.pythonhosted.org/packages/0e/fd/e6696e5b115f328c382dd88414168e2b918cb7153b59dc9228d3c15e356c/grpcio-1.19.0-cp35-cp35m-manylinux1_x86_64.whl\nCollecting absl-py>=0.1.6 (from tensorflow)\nCollecting keras-applications>=1.0.6 (from tensorflow)\n  Using cached https://files.pythonhosted.org/packages/90/85/64c82949765cfb246bbdaf5aca2d55f400f792655927a017710a78445def/Keras_Applications-1.0.7-py2.py3-none-any.whl\nCollecting numpy>=1.13.3 (from tensorflow)\n  Using cached https://files.pythonhosted.org/packages/e3/18/4f013c3c3051f4e0ffbaa4bf247050d6d5e527fe9cb1907f5975b172f23f/numpy-1.16.2-cp35-cp35m-manylinux1_x86_64.whl\nCollecting six>=1.10.0 (from tensorflow)\n  Using cached https://files.pythonhosted.org/packages/73/fb/00a976f728d0d1fecfe898238ce23f502a721c0ac0ecfedb80e0d88c64e9/six-1.12.0-py2.py3-none-any.whl\nCollecting tensorflow-estimator<1.14.0rc0,>=1.13.0 (from tensorflow)\n  Using cached https://files.pythonhosted.org/packages/bb/48/13f49fc3fa0fdf916aa1419013bb8f2ad09674c275b4046d5ee669a46873/tensorflow_estimator-1.13.0-py2.py3-none-any.whl\nCollecting termcolor>=1.1.0 (from tensorflow)\nCollecting astor>=0.6.0 (from tensorflow)\n  Using cached https://files.pythonhosted.org/packages/35/6b/11530768cac581a12952a2aad00e1526b89d242d0b9f59534ef6e6a1752f/astor-0.7.1-py2.py3-none-any.whl\nCollecting keras-preprocessing>=1.0.5 (from tensorflow)\n  Using cached https://files.pythonhosted.org/packages/c0/bf/0315ef6a9fd3fc2346e85b0ff1f5f83ca17073f2c31ac719ab2e4da0d4a3/Keras_Preprocessing-1.0.9-py2.py3-none-any.whl\nCollecting wheel>=0.26 (from tensorflow)\n  Using cached https://files.pythonhosted.org/packages/96/ba/a4702cbb6a3a485239fbe9525443446203f00771af9ac000fa3ef2788201/wheel-0.33.1-py2.py3-none-any.whl\nCollecting gast>=0.2.0 (from tensorflow)\nCollecting setuptools (from protobuf>=3.6.1->tensorflow)\n  Using cached https://files.pythonhosted.org/packages/d1/6a/4b2fcefd2ea0868810e92d519dacac1ddc64a2e53ba9e3422c3b62b378a6/setuptools-40.8.0-py2.py3-none-any.whl\nCollecting markdown>=2.6.8 (from tensorboard<1.14.0,>=1.13.0->tensorflow)\n  Using cached https://files.pythonhosted.org/packages/7a/6b/5600647404ba15545ec37d2f7f58844d690baf2f81f3a60b862e48f29287/Markdown-3.0.1-py2.py3-none-any.whl\nCollecting werkzeug>=0.11.15 (from tensorboard<1.14.0,>=1.13.0->tensorflow)\n  Using cached https://files.pythonhosted.org/packages/20/c4/12e3e56473e52375aa29c4764e70d1b8f3efa6682bef8d0aae04fe335243/Werkzeug-0.14.1-py2.py3-none-any.whl\nCollecting h5py (from keras-applications>=1.0.6->tensorflow)\n  Using cached https://files.pythonhosted.org/packages/4c/77/c4933e12dca0f61bcdafc207c7532e1250b8d12719459fd85132f3daa9fd/h5py-2.9.0-cp35-cp35m-manylinux1_x86_64.whl\nCollecting mock>=2.0.0 (from tensorflow-estimator<1.14.0rc0,>=1.13.0->tensorflow)\n  Using cached https://files.pythonhosted.org/packages/e6/35/f187bdf23be87092bd0f1200d43d23076cee4d0dec109f195173fd3ebc79/mock-2.0.0-py2.py3-none-any.whl\nCollecting pbr>=0.11 (from mock>=2.0.0->tensorflow-estimator<1.14.0rc0,>=1.13.0->tensorflow)\n  Using cached https://files.pythonhosted.org/packages/14/09/12fe9a14237a6b7e0ba3a8d6fcf254bf4b10ec56a0185f73d651145e9222/pbr-5.1.3-py2.py3-none-any.whl\n\u001b[31mpyspark 2.3.0 requires py4j==0.10.6, which is not installed.\u001b[0m\nInstalling collected packages: six, setuptools, protobuf, markdown, wheel, grpcio, numpy, werkzeug, absl-py, tensorboard, h5py, keras-applications, pbr, mock, tensorflow-estimator, termcolor, astor, keras-preprocessing, gast, tensorflow\nSuccessfully installed absl-py-0.7.0 astor-0.7.1 gast-0.2.2 grpcio-1.19.0 h5py-2.9.0 keras-applications-1.0.7 keras-preprocessing-1.0.9 markdown-3.0.1 mock-2.0.0 numpy-1.16.2 pbr-5.1.3 protobuf-3.7.0 setuptools-40.8.0 six-1.12.0 tensorboard-1.13.1 tensorflow-1.13.1 tensorflow-estimator-1.13.0 termcolor-1.1.0 werkzeug-0.14.1 wheel-0.33.1\n"
                }
            ], 
            "source": "!pip install --upgrade tensorflow"
        }, 
        {
            "execution_count": 4, 
            "cell_type": "code", 
            "metadata": {}, 
            "outputs": [
                {
                    "output_type": "stream", 
                    "name": "stdout", 
                    "text": "Collecting py4j==0.10.6\n\u001b[?25l  Downloading https://files.pythonhosted.org/packages/4a/08/162710786239aa72bd72bb46c64f2b02f54250412ba928cb373b30699139/py4j-0.10.6-py2.py3-none-any.whl (189kB)\n\u001b[K    100% |################################| 194kB 3.8MB/s eta 0:00:01\n\u001b[?25hInstalling collected packages: py4j\nSuccessfully installed py4j-0.10.6\n"
                }
            ], 
            "source": "!pip install py4j==0.10.6"
        }, 
        {
            "execution_count": 5, 
            "cell_type": "code", 
            "metadata": {}, 
            "outputs": [
                {
                    "output_type": "stream", 
                    "name": "stdout", 
                    "text": "Collecting pyspark==2.3.0\n\u001b[?25l  Downloading https://files.pythonhosted.org/packages/58/49/45370cc153a6adcf2c304a3c06e801ed3c9650d0f852e7fde04bd8ffb534/pyspark-2.3.0.tar.gz (211.9MB)\n\u001b[K    100% |################################| 211.9MB 113kB/s eta 0:00:01   42% |#############                   | 90.1MB 62.8MB/s eta 0:00:02\n\u001b[?25hCollecting py4j==0.10.6 (from pyspark==2.3.0)\n  Using cached https://files.pythonhosted.org/packages/4a/08/162710786239aa72bd72bb46c64f2b02f54250412ba928cb373b30699139/py4j-0.10.6-py2.py3-none-any.whl\nBuilding wheels for collected packages: pyspark\n  Running setup.py bdist_wheel for pyspark ... \u001b[?25ldone\n\u001b[?25h  Stored in directory: /home/spark/shared/.cache/pip/wheels/d9/db/ff/e6f3a8a564163ea64bc2072357e77b3404d10f91be48352796\nSuccessfully built pyspark\nInstalling collected packages: py4j, pyspark\nSuccessfully installed py4j-0.10.6 pyspark-2.3.0\n\u001b[33mTarget directory /home/spark/shared/user-libs/python3/py4j-0.10.6.dist-info already exists. Specify --upgrade to force replacement.\u001b[0m\n\u001b[33mTarget directory /home/spark/shared/user-libs/python3/py4j already exists. Specify --upgrade to force replacement.\u001b[0m\n\u001b[33mTarget directory /home/spark/shared/user-libs/python3/share already exists. Specify --upgrade to force replacement.\u001b[0m\n\u001b[33mTarget directory /home/spark/shared/user-libs/python3/bin already exists. Specify --upgrade to force replacement.\u001b[0m\n"
                }
            ], 
            "source": "!pip install pyspark==2.3.0"
        }, 
        {
            "execution_count": 6, 
            "cell_type": "code", 
            "metadata": {}, 
            "outputs": [
                {
                    "output_type": "stream", 
                    "name": "stdout", 
                    "text": "Collecting pyspark==2.3.0\nCollecting py4j==0.10.6 (from pyspark==2.3.0)\n  Using cached https://files.pythonhosted.org/packages/4a/08/162710786239aa72bd72bb46c64f2b02f54250412ba928cb373b30699139/py4j-0.10.6-py2.py3-none-any.whl\nInstalling collected packages: py4j, pyspark\nSuccessfully installed py4j-0.10.6 pyspark-2.3.0\n"
                }
            ], 
            "source": "!pip install --upgrade pyspark==2.3.0"
        }, 
        {
            "execution_count": 7, 
            "cell_type": "code", 
            "metadata": {}, 
            "outputs": [
                {
                    "execution_count": 7, 
                    "metadata": {}, 
                    "data": {
                        "text/plain": "[Row(ID=10642781, Case Number='HZ394208', Date='08/15/2016 11:15:00 AM', Block='061XX W GRAND AVE', IUCR='0460', Primary Type='BATTERY', Description='SIMPLE', Location Description='APARTMENT', Arrest=False, Domestic=False, Beat=2512, District=25, Ward=29, Community Area=19, FBI Code='08B', X Coordinate=1134907, Y Coordinate=1914405, Year=2016, Updated On='02/10/2018 03:50:01 PM', Latitude=41.921319589, Longitude=-87.779748093, Location='(41.921319589, -87.779748093)')]"
                    }, 
                    "output_type": "execute_result"
                }
            ], 
            "source": "# The code was removed by Watson Studio for sharing."
        }, 
        {
            "execution_count": 8, 
            "cell_type": "code", 
            "metadata": {}, 
            "outputs": [
                {
                    "output_type": "stream", 
                    "name": "stdout", 
                    "text": "root\n |-- ID: integer (nullable = true)\n |-- Case Number: string (nullable = true)\n |-- Date: string (nullable = true)\n |-- Block: string (nullable = true)\n |-- IUCR: string (nullable = true)\n |-- Primary Type: string (nullable = true)\n |-- Description: string (nullable = true)\n |-- Location Description: string (nullable = true)\n |-- Arrest: boolean (nullable = true)\n |-- Domestic: boolean (nullable = true)\n |-- Beat: integer (nullable = true)\n |-- District: integer (nullable = true)\n |-- Ward: integer (nullable = true)\n |-- Community Area: integer (nullable = true)\n |-- FBI Code: string (nullable = true)\n |-- X Coordinate: integer (nullable = true)\n |-- Y Coordinate: integer (nullable = true)\n |-- Year: integer (nullable = true)\n |-- Updated On: string (nullable = true)\n |-- Latitude: double (nullable = true)\n |-- Longitude: double (nullable = true)\n |-- Location: string (nullable = true)\n\n"
                }
            ], 
            "source": "df_data_1.printSchema()"
        }, 
        {
            "execution_count": 9, 
            "cell_type": "code", 
            "metadata": {}, 
            "outputs": [
                {
                    "execution_count": 9, 
                    "metadata": {}, 
                    "data": {
                        "text/plain": "6140717"
                    }, 
                    "output_type": "execute_result"
                }
            ], 
            "source": "df_data_1.dropna(how=\"any\").count()"
        }, 
        {
            "execution_count": 10, 
            "cell_type": "code", 
            "metadata": {}, 
            "outputs": [
                {
                    "execution_count": 10, 
                    "metadata": {}, 
                    "data": {
                        "text/plain": "35"
                    }, 
                    "output_type": "execute_result"
                }
            ], 
            "source": "df_data_1.select('Primary Type').distinct().count()"
        }, 
        {
            "execution_count": 11, 
            "cell_type": "code", 
            "metadata": {}, 
            "outputs": [
                {
                    "execution_count": 11, 
                    "metadata": {}, 
                    "data": {
                        "text/plain": "381"
                    }, 
                    "output_type": "execute_result"
                }
            ], 
            "source": "df_data_1.select('Description').distinct().count()"
        }, 
        {
            "execution_count": 12, 
            "cell_type": "code", 
            "metadata": {}, 
            "outputs": [
                {
                    "execution_count": 12, 
                    "metadata": {}, 
                    "data": {
                        "text/plain": "180"
                    }, 
                    "output_type": "execute_result"
                }
            ], 
            "source": "df_data_1.select('Location Description').distinct().count()"
        }, 
        {
            "execution_count": 13, 
            "cell_type": "code", 
            "metadata": {}, 
            "outputs": [
                {
                    "execution_count": 13, 
                    "metadata": {}, 
                    "data": {
                        "text/plain": "19"
                    }, 
                    "output_type": "execute_result"
                }
            ], 
            "source": "df_data_1.select('Year').distinct().count()"
        }, 
        {
            "execution_count": 14, 
            "cell_type": "code", 
            "metadata": {}, 
            "outputs": [
                {
                    "execution_count": 14, 
                    "metadata": {}, 
                    "data": {
                        "text/plain": "403"
                    }, 
                    "output_type": "execute_result"
                }
            ], 
            "source": "df_data_1.select('IUCR').distinct().count()"
        }, 
        {
            "execution_count": 15, 
            "cell_type": "code", 
            "metadata": {}, 
            "outputs": [
                {
                    "execution_count": 15, 
                    "metadata": {}, 
                    "data": {
                        "text/plain": "304"
                    }, 
                    "output_type": "execute_result"
                }
            ], 
            "source": "df_data_1.select('Beat').distinct().count()"
        }, 
        {
            "execution_count": 16, 
            "cell_type": "code", 
            "metadata": {}, 
            "outputs": [
                {
                    "execution_count": 16, 
                    "metadata": {}, 
                    "data": {
                        "text/plain": "25"
                    }, 
                    "output_type": "execute_result"
                }
            ], 
            "source": "df_data_1.select('District').distinct().count()"
        }, 
        {
            "execution_count": 17, 
            "cell_type": "code", 
            "metadata": {}, 
            "outputs": [
                {
                    "execution_count": 17, 
                    "metadata": {}, 
                    "data": {
                        "text/plain": "51"
                    }, 
                    "output_type": "execute_result"
                }
            ], 
            "source": "df_data_1.select('Ward').distinct().count()"
        }, 
        {
            "execution_count": 18, 
            "cell_type": "code", 
            "metadata": {}, 
            "outputs": [
                {
                    "execution_count": 18, 
                    "metadata": {}, 
                    "data": {
                        "text/plain": "79"
                    }, 
                    "output_type": "execute_result"
                }
            ], 
            "source": "df_data_1.select('Community Area').distinct().count()"
        }, 
        {
            "execution_count": 19, 
            "cell_type": "code", 
            "metadata": {}, 
            "outputs": [
                {
                    "execution_count": 19, 
                    "metadata": {}, 
                    "data": {
                        "text/plain": "26"
                    }, 
                    "output_type": "execute_result"
                }
            ], 
            "source": "df_data_1.select('FBI Code').distinct().count()"
        }, 
        {
            "execution_count": 20, 
            "cell_type": "code", 
            "metadata": {
                "scrolled": true
            }, 
            "outputs": [
                {
                    "output_type": "stream", 
                    "name": "stdout", 
                    "text": "Number of training records: 4911711\nNumber of testing records : 1106642\nNumber of prediction records : 122364\n"
                }
            ], 
            "source": "splitted_data = df_data_1.randomSplit([0.8, 0.18, 0.02], 24)\ntrain_data = splitted_data[0]\ntest_data = splitted_data[1]\npredict_data = splitted_data[2]\n\nprint(\"Number of training records: \" + str(train_data.dropna(how=\"any\").count()))\nprint(\"Number of testing records : \" + str(test_data.dropna(how=\"any\").count()))\nprint(\"Number of prediction records : \" + str(predict_data.dropna(how=\"any\").count()))"
        }, 
        {
            "execution_count": 21, 
            "cell_type": "code", 
            "metadata": {}, 
            "outputs": [], 
            "source": "from pyspark.ml.feature import OneHotEncoder, StringIndexer, IndexToString, VectorAssembler\nfrom pyspark.ml.classification import RandomForestClassifier, DecisionTreeClassifier\nfrom pyspark.ml.evaluation import MulticlassClassificationEvaluator\nfrom pyspark.ml import Pipeline, Model\nfrom pyspark.ml.tuning import ParamGridBuilder;"
        }, 
        {
            "execution_count": 22, 
            "cell_type": "code", 
            "metadata": {}, 
            "outputs": [], 
            "source": "stringIndexer_label = StringIndexer(inputCol=\"Primary Type\", outputCol=\"label\", handleInvalid=\"keep\").fit(df_data_1.dropna(how=\"any\"))\nstringIndexer_fbi = StringIndexer(inputCol=\"FBI Code\", outputCol=\"FBI_Code_IX\", handleInvalid=\"keep\")"
        }, 
        {
            "execution_count": 23, 
            "cell_type": "code", 
            "metadata": {}, 
            "outputs": [], 
            "source": "vectorAssembler_features = VectorAssembler(inputCols=[\"FBI_Code_IX\", \"District\", \"Ward\", \"Community Area\", \"Year\"], outputCol=\"features\")"
        }, 
        {
            "execution_count": 24, 
            "cell_type": "code", 
            "metadata": {}, 
            "outputs": [], 
            "source": "rf = RandomForestClassifier(labelCol=\"label\", featuresCol=\"features\")"
        }, 
        {
            "execution_count": 25, 
            "cell_type": "code", 
            "metadata": {}, 
            "outputs": [], 
            "source": "labelConverter = IndexToString(inputCol=\"prediction\", outputCol=\"predictedLabel\", labels=stringIndexer_label.labels)"
        }, 
        {
            "execution_count": 26, 
            "cell_type": "code", 
            "metadata": {}, 
            "outputs": [], 
            "source": "pipeline_rf = Pipeline(stages=[stringIndexer_label, stringIndexer_fbi, vectorAssembler_features, rf, labelConverter])"
        }, 
        {
            "execution_count": 27, 
            "cell_type": "code", 
            "metadata": {}, 
            "outputs": [
                {
                    "output_type": "stream", 
                    "name": "stdout", 
                    "text": "root\n |-- ID: integer (nullable = true)\n |-- Case Number: string (nullable = true)\n |-- Date: string (nullable = true)\n |-- Block: string (nullable = true)\n |-- IUCR: string (nullable = true)\n |-- Primary Type: string (nullable = true)\n |-- Description: string (nullable = true)\n |-- Location Description: string (nullable = true)\n |-- Arrest: boolean (nullable = true)\n |-- Domestic: boolean (nullable = true)\n |-- Beat: integer (nullable = true)\n |-- District: integer (nullable = true)\n |-- Ward: integer (nullable = true)\n |-- Community Area: integer (nullable = true)\n |-- FBI Code: string (nullable = true)\n |-- X Coordinate: integer (nullable = true)\n |-- Y Coordinate: integer (nullable = true)\n |-- Year: integer (nullable = true)\n |-- Updated On: string (nullable = true)\n |-- Latitude: double (nullable = true)\n |-- Longitude: double (nullable = true)\n |-- Location: string (nullable = true)\n\n"
                }
            ], 
            "source": "train_data.printSchema()"
        }, 
        {
            "execution_count": 28, 
            "cell_type": "code", 
            "metadata": {}, 
            "outputs": [], 
            "source": "model_rf = pipeline_rf.fit(train_data.dropna(how=\"any\"))"
        }, 
        {
            "execution_count": 38, 
            "cell_type": "code", 
            "metadata": {}, 
            "outputs": [
                {
                    "output_type": "stream", 
                    "name": "stdout", 
                    "text": "Accuracy = 0.826085\nTest Error = 0.173915\n"
                }
            ], 
            "source": "predictions = model_rf.transform(test_data.dropna(how=\"any\"))\nevaluatorRF = MulticlassClassificationEvaluator(labelCol=\"label\", predictionCol=\"prediction\", metricName=\"accuracy\")\naccuracy = evaluatorRF.evaluate(predictions)\n\nprint(\"Accuracy = %g\" % accuracy)\nprint(\"Test Error = %g\" % (1.0 - accuracy))"
        }, 
        {
            "execution_count": 29, 
            "cell_type": "code", 
            "metadata": {}, 
            "outputs": [
                {
                    "output_type": "stream", 
                    "name": "stderr", 
                    "text": "ERROR:root:Line magic function `%brunel` not found.\n"
                }
            ], 
            "source": "from repository.mlrepositoryclient import MLRepositoryClient\nfrom repository.mlrepositoryartifact import MLRepositoryArtifact"
        }, 
        {
            "execution_count": 30, 
            "cell_type": "code", 
            "metadata": {}, 
            "outputs": [], 
            "source": "service_path = 'https://us-south.ml.cloud.ibm.com'\ninstance_id = '0c7707e4-c298-40c9-a668-ae63f2cc31de'\nusername = 'd4ee1165-65d7-4b65-a3e2-ab66beea2657'\npassword = 'c2fe77bb-1508-494b-86b7-c50eb323f47b'"
        }, 
        {
            "execution_count": 31, 
            "cell_type": "code", 
            "metadata": {}, 
            "outputs": [], 
            "source": "ml_repository_client = MLRepositoryClient(service_path)\nml_repository_client.authorize(username, password)"
        }, 
        {
            "execution_count": 32, 
            "cell_type": "code", 
            "metadata": {}, 
            "outputs": [], 
            "source": "model_artifact = MLRepositoryArtifact(model_rf, training_data = train_data, name=\"Crime Line prediction\")"
        }, 
        {
            "execution_count": 33, 
            "cell_type": "code", 
            "metadata": {}, 
            "outputs": [], 
            "source": "saved_model = ml_repository_client.models.save(model_artifact)"
        }, 
        {
            "execution_count": 34, 
            "cell_type": "code", 
            "metadata": {}, 
            "outputs": [
                {
                    "execution_count": 34, 
                    "metadata": {}, 
                    "data": {
                        "text/plain": "dict_keys(['authorEmail', 'version', 'pipelineVersionHref', 'inputDataSchema', 'creationTime', 'modelType', 'lastUpdated', 'trainingDataSchema', 'runtime', 'evaluationMethod', 'authorName', 'trainingDataRef', 'evaluationMetrics', 'label', 'modelVersionHref'])"
                    }, 
                    "output_type": "execute_result"
                }
            ], 
            "source": "saved_model.meta.available_props()"
        }, 
        {
            "execution_count": 35, 
            "cell_type": "code", 
            "metadata": {}, 
            "outputs": [
                {
                    "output_type": "stream", 
                    "name": "stdout", 
                    "text": "modelType: sparkml-model-2.3\ntrainingDataSchema: {'type': 'struct', 'fields': [{'type': 'integer', 'name': 'ID', 'metadata': {}, 'nullable': True}, {'type': 'string', 'name': 'Case Number', 'metadata': {}, 'nullable': True}, {'type': 'string', 'name': 'Date', 'metadata': {}, 'nullable': True}, {'type': 'string', 'name': 'Block', 'metadata': {}, 'nullable': True}, {'type': 'string', 'name': 'IUCR', 'metadata': {}, 'nullable': True}, {'type': 'string', 'name': 'Primary Type', 'metadata': {}, 'nullable': True}, {'type': 'string', 'name': 'Description', 'metadata': {}, 'nullable': True}, {'type': 'string', 'name': 'Location Description', 'metadata': {}, 'nullable': True}, {'type': 'boolean', 'name': 'Arrest', 'metadata': {}, 'nullable': True}, {'type': 'boolean', 'name': 'Domestic', 'metadata': {}, 'nullable': True}, {'type': 'integer', 'name': 'Beat', 'metadata': {}, 'nullable': True}, {'type': 'integer', 'name': 'District', 'metadata': {}, 'nullable': True}, {'type': 'integer', 'name': 'Ward', 'metadata': {}, 'nullable': True}, {'type': 'integer', 'name': 'Community Area', 'metadata': {}, 'nullable': True}, {'type': 'string', 'name': 'FBI Code', 'metadata': {}, 'nullable': True}, {'type': 'integer', 'name': 'X Coordinate', 'metadata': {}, 'nullable': True}, {'type': 'integer', 'name': 'Y Coordinate', 'metadata': {}, 'nullable': True}, {'type': 'integer', 'name': 'Year', 'metadata': {}, 'nullable': True}, {'type': 'string', 'name': 'Updated On', 'metadata': {}, 'nullable': True}, {'type': 'double', 'name': 'Latitude', 'metadata': {}, 'nullable': True}, {'type': 'double', 'name': 'Longitude', 'metadata': {}, 'nullable': True}, {'type': 'string', 'name': 'Location', 'metadata': {}, 'nullable': True}]}\ncreationTime: 2019-03-07 04:50:32.376000+00:00\nmodelVersionHref: https://us-south.ml.cloud.ibm.com/v2/artifacts/models/eca72e5b-3841-46d5-b563-446ae222bf99/versions/ee4ce88e-508d-41a2-be54-86ddc2f5ae1c\nlabel: Primary Type\n"
                }
            ], 
            "source": "print (\"modelType: \" + saved_model.meta.prop(\"modelType\"))\nprint (\"trainingDataSchema: \" + str(saved_model.meta.prop(\"trainingDataSchema\")))\nprint (\"creationTime: \" + str(saved_model.meta.prop(\"creationTime\")))\nprint (\"modelVersionHref: \" + saved_model.meta.prop(\"modelVersionHref\"))\nprint (\"label: \" + saved_model.meta.prop(\"label\"))"
        }, 
        {
            "execution_count": 36, 
            "cell_type": "code", 
            "metadata": {}, 
            "outputs": [], 
            "source": "loadedModelArtifact = ml_repository_client.models.get(saved_model.uid)"
        }, 
        {
            "execution_count": 37, 
            "cell_type": "code", 
            "metadata": {}, 
            "outputs": [
                {
                    "output_type": "stream", 
                    "name": "stdout", 
                    "text": "Crime Line prediction\n"
                }
            ], 
            "source": "print (loadedModelArtifact.name)"
        }, 
        {
            "execution_count": 40, 
            "cell_type": "code", 
            "metadata": {}, 
            "outputs": [], 
            "source": "predictions = loadedModelArtifact.model_instance().transform(predict_data.dropna(how=\"any\"))"
        }, 
        {
            "execution_count": 41, 
            "cell_type": "code", 
            "metadata": {}, 
            "outputs": [
                {
                    "output_type": "stream", 
                    "name": "stdout", 
                    "text": "+-----+-----------+--------------------+--------------------+----+------------+-------------------+--------------------+------+--------+----+--------+----+--------------+--------+------------+------------+----+--------------------+------------+-------------+--------------------+-----+-----------+--------------------+--------------------+--------------------+----------+--------------+\n|   ID|Case Number|                Date|               Block|IUCR|Primary Type|        Description|Location Description|Arrest|Domestic|Beat|District|Ward|Community Area|FBI Code|X Coordinate|Y Coordinate|Year|          Updated On|    Latitude|    Longitude|            Location|label|FBI_Code_IX|            features|       rawPrediction|         probability|prediction|predictedLabel|\n+-----+-----------+--------------------+--------------------+----+------------+-------------------+--------------------+------+--------+----+--------+----+--------------+--------+------------+------------+----+--------------------+------------+-------------+--------------------+-----+-----------+--------------------+--------------------+--------------------+----------+--------------+\n|  947|    G422531|07/19/2001 01:04:...|007XX S WASHTENAW...|0110|    HOMICIDE|FIRST DEGREE MURDER|              STREET| false|   false|1135|      11|   2|            27|     01A|     1158480|     1896767|2001|08/17/2015 03:03:...|41.872469148|-87.693617794|(41.872469148, -8...| 21.0|       22.0|[22.0,11.0,2.0,27...|[0.26042442293373...|[0.01302122114668...|       1.0|       BATTERY|\n|  997|    G468177|08/07/2001 09:38:...|036XX W ROOSEVELT RD|0110|    HOMICIDE|FIRST DEGREE MURDER|              STREET| false|   false|1133|      11|  24|            29|     01A|     1152095|     1894464|2001|08/17/2015 03:03:...|41.866277647|-87.717120788|(41.866277647, -8...| 21.0|       22.0|[22.0,11.0,24.0,2...|[0.11563696419187...|[0.00578184820959...|       1.0|       BATTERY|\n|23158|   HR498619|11/23/2016 07:00:...|015XX W AUGUSTA BLVD|0110|    HOMICIDE|FIRST DEGREE MURDER|              STREET|  true|   false|1213|      12|  27|            24|     01A|     1165960|     1906760|2016|05/03/2018 03:49:...|41.899734447|-87.665870075|(41.899734447, -8...| 21.0|       22.0|[22.0,12.0,27.0,2...|[0.25099954154361...|[0.01254997707718...|       1.0|       BATTERY|\n|23216|   HT364674|07/13/2012 07:00:...|  052XX S ALBANY AVE|0110|    HOMICIDE|FIRST DEGREE MURDER|              STREET| false|   false| 923|       9|  14|            63|     01A|     1156597|     1869778|2012|05/03/2018 03:49:...|41.798446403|-87.701260283|(41.798446403, -8...| 21.0|       22.0|[22.0,9.0,14.0,63...|[0.18783043619559...|[0.00939152180977...|       1.0|       BATTERY|\n|23877|   JB204259|03/29/2018 04:30:...|040XX W VAN BUREN ST|0110|    HOMICIDE|FIRST DEGREE MURDER|                AUTO| false|   false|1132|      11|  24|            26|     01A|     1149613|     1897720|2018|04/05/2018 03:52:...|41.875261016|-87.726147954|(41.875261016, -8...| 21.0|       22.0|[22.0,11.0,24.0,2...|[0.11563696419187...|[0.00578184820959...|       1.0|       BATTERY|\n+-----+-----------+--------------------+--------------------+----+------------+-------------------+--------------------+------+--------+----+--------+----+--------------+--------+------------+------------+----+--------------------+------------+-------------+--------------------+-----+-----------+--------------------+--------------------+--------------------+----------+--------------+\nonly showing top 5 rows\n\n"
                }
            ], 
            "source": "predictions.show(5)"
        }, 
        {
            "execution_count": 42, 
            "cell_type": "code", 
            "metadata": {}, 
            "outputs": [
                {
                    "output_type": "stream", 
                    "name": "stdout", 
                    "text": "+------------------+-----+\n|    predictedLabel|count|\n+------------------+-----+\n|           ASSAULT| 8264|\n|             THEFT|25943|\n|           BATTERY|38520|\n|DECEPTIVE PRACTICE| 2648|\n|   CRIMINAL DAMAGE|14036|\n|         NARCOTICS|11966|\n|     OTHER OFFENSE|15097|\n|          BURGLARY| 5890|\n+------------------+-----+\n\n"
                }
            ], 
            "source": "predictions.select(\"predictedLabel\").groupBy(\"predictedLabel\").count().show()"
        }, 
        {
            "execution_count": 45, 
            "cell_type": "code", 
            "metadata": {
                "scrolled": true
            }, 
            "outputs": [
                {
                    "output_type": "stream", 
                    "name": "stdout", 
                    "text": "Collecting plotly\n  Using cached https://files.pythonhosted.org/packages/fd/db/003b5cfbc710f4d4982440451185b952269e4080a57ae7e760a2ceb8ce0c/plotly-3.6.1-py2.py3-none-any.whl\nCollecting decorator>=4.0.6 (from plotly)\n  Using cached https://files.pythonhosted.org/packages/f1/cd/7c8240007e9716b14679bc217a1baefa4432aa30394f7e2ec40a52b1a708/decorator-4.3.2-py2.py3-none-any.whl\nCollecting pytz (from plotly)\n  Using cached https://files.pythonhosted.org/packages/61/28/1d3920e4d1d50b19bc5d24398a7cd85cc7b9a75a490570d5a30c57622d34/pytz-2018.9-py2.py3-none-any.whl\nCollecting nbformat>=4.2 (from plotly)\n  Using cached https://files.pythonhosted.org/packages/da/27/9a654d2b6cc1eaa517d1c5a4405166c7f6d72f04f6e7eea41855fe808a46/nbformat-4.4.0-py2.py3-none-any.whl\nCollecting retrying>=1.3.3 (from plotly)\nCollecting six (from plotly)\n  Using cached https://files.pythonhosted.org/packages/73/fb/00a976f728d0d1fecfe898238ce23f502a721c0ac0ecfedb80e0d88c64e9/six-1.12.0-py2.py3-none-any.whl\nCollecting requests (from plotly)\n  Using cached https://files.pythonhosted.org/packages/7d/e3/20f3d364d6c8e5d2353c72a67778eb189176f08e873c9900e10c0287b84b/requests-2.21.0-py2.py3-none-any.whl\nCollecting jupyter-core (from nbformat>=4.2->plotly)\n  Using cached https://files.pythonhosted.org/packages/1d/44/065d2d7bae7bebc06f1dd70d23c36da8c50c0f08b4236716743d706762a8/jupyter_core-4.4.0-py2.py3-none-any.whl\nCollecting ipython-genutils (from nbformat>=4.2->plotly)\n  Using cached https://files.pythonhosted.org/packages/fa/bc/9bd3b5c2b4774d5f33b2d544f1460be9df7df2fe42f352135381c347c69a/ipython_genutils-0.2.0-py2.py3-none-any.whl\nCollecting jsonschema!=2.5.0,>=2.4 (from nbformat>=4.2->plotly)\n  Using cached https://files.pythonhosted.org/packages/aa/69/df679dfbdd051568b53c38ec8152a3ab6bc533434fc7ed11ab034bf5e82f/jsonschema-3.0.1-py2.py3-none-any.whl\nCollecting traitlets>=4.1 (from nbformat>=4.2->plotly)\n  Using cached https://files.pythonhosted.org/packages/93/d6/abcb22de61d78e2fc3959c964628a5771e47e7cc60d53e9342e21ed6cc9a/traitlets-4.3.2-py2.py3-none-any.whl\nCollecting urllib3<1.25,>=1.21.1 (from requests->plotly)\n  Using cached https://files.pythonhosted.org/packages/62/00/ee1d7de624db8ba7090d1226aebefab96a2c71cd5cfa7629d6ad3f61b79e/urllib3-1.24.1-py2.py3-none-any.whl\nCollecting certifi>=2017.4.17 (from requests->plotly)\n  Using cached https://files.pythonhosted.org/packages/9f/e0/accfc1b56b57e9750eba272e24c4dddeac86852c2bebd1236674d7887e8a/certifi-2018.11.29-py2.py3-none-any.whl\nCollecting idna<2.9,>=2.5 (from requests->plotly)\n  Using cached https://files.pythonhosted.org/packages/14/2c/cd551d81dbe15200be1cf41cd03869a46fe7226e7450af7a6545bfc474c9/idna-2.8-py2.py3-none-any.whl\nCollecting chardet<3.1.0,>=3.0.2 (from requests->plotly)\n  Using cached https://files.pythonhosted.org/packages/bc/a9/01ffebfb562e4274b6487b4bb1ddec7ca55ec7510b22e4c51f14098443b8/chardet-3.0.4-py2.py3-none-any.whl\nCollecting attrs>=17.4.0 (from jsonschema!=2.5.0,>=2.4->nbformat>=4.2->plotly)\n  Using cached https://files.pythonhosted.org/packages/23/96/d828354fa2dbdf216eaa7b7de0db692f12c234f7ef888cc14980ef40d1d2/attrs-19.1.0-py2.py3-none-any.whl\nCollecting pyrsistent>=0.14.0 (from jsonschema!=2.5.0,>=2.4->nbformat>=4.2->plotly)\nCollecting setuptools (from jsonschema!=2.5.0,>=2.4->nbformat>=4.2->plotly)\n  Using cached https://files.pythonhosted.org/packages/d1/6a/4b2fcefd2ea0868810e92d519dacac1ddc64a2e53ba9e3422c3b62b378a6/setuptools-40.8.0-py2.py3-none-any.whl\nInstalling collected packages: decorator, pytz, ipython-genutils, six, traitlets, jupyter-core, attrs, pyrsistent, setuptools, jsonschema, nbformat, retrying, urllib3, certifi, idna, chardet, requests, plotly\nSuccessfully installed attrs-19.1.0 certifi-2018.11.29 chardet-3.0.4 decorator-4.3.2 idna-2.8 ipython-genutils-0.2.0 jsonschema-3.0.1 jupyter-core-4.4.0 nbformat-4.4.0 plotly-3.6.1 pyrsistent-0.14.11 pytz-2018.9 requests-2.21.0 retrying-1.3.3 setuptools-40.8.0 six-1.12.0 traitlets-4.3.2 urllib3-1.24.1\n"
                }
            ], 
            "source": "!pip install --upgrade plotly "
        }, 
        {
            "execution_count": 46, 
            "cell_type": "code", 
            "metadata": {}, 
            "outputs": [
                {
                    "output_type": "stream", 
                    "name": "stdout", 
                    "text": "Collecting cufflinks==0.8.2\nCollecting plotly>=1.7.6 (from cufflinks==0.8.2)\n  Using cached https://files.pythonhosted.org/packages/fd/db/003b5cfbc710f4d4982440451185b952269e4080a57ae7e760a2ceb8ce0c/plotly-3.6.1-py2.py3-none-any.whl\nCollecting pandas (from cufflinks==0.8.2)\n  Using cached https://files.pythonhosted.org/packages/e2/a3/c42cd52e40527ba35aed53a988c485ffeddbae0722b8b756da82464baa73/pandas-0.24.1-cp35-cp35m-manylinux1_x86_64.whl\nCollecting colorlover>=0.2 (from cufflinks==0.8.2)\n  Using cached https://files.pythonhosted.org/packages/9a/53/f696e4480b1d1de3b1523991dea71cf417c8b19fe70c704da164f3f90972/colorlover-0.3.0-py3-none-any.whl\nCollecting decorator>=4.0.6 (from plotly>=1.7.6->cufflinks==0.8.2)\n  Using cached https://files.pythonhosted.org/packages/f1/cd/7c8240007e9716b14679bc217a1baefa4432aa30394f7e2ec40a52b1a708/decorator-4.3.2-py2.py3-none-any.whl\nCollecting six (from plotly>=1.7.6->cufflinks==0.8.2)\n  Using cached https://files.pythonhosted.org/packages/73/fb/00a976f728d0d1fecfe898238ce23f502a721c0ac0ecfedb80e0d88c64e9/six-1.12.0-py2.py3-none-any.whl\nCollecting nbformat>=4.2 (from plotly>=1.7.6->cufflinks==0.8.2)\n  Using cached https://files.pythonhosted.org/packages/da/27/9a654d2b6cc1eaa517d1c5a4405166c7f6d72f04f6e7eea41855fe808a46/nbformat-4.4.0-py2.py3-none-any.whl\nCollecting retrying>=1.3.3 (from plotly>=1.7.6->cufflinks==0.8.2)\nCollecting pytz (from plotly>=1.7.6->cufflinks==0.8.2)\n  Using cached https://files.pythonhosted.org/packages/61/28/1d3920e4d1d50b19bc5d24398a7cd85cc7b9a75a490570d5a30c57622d34/pytz-2018.9-py2.py3-none-any.whl\nCollecting requests (from plotly>=1.7.6->cufflinks==0.8.2)\n  Using cached https://files.pythonhosted.org/packages/7d/e3/20f3d364d6c8e5d2353c72a67778eb189176f08e873c9900e10c0287b84b/requests-2.21.0-py2.py3-none-any.whl\nCollecting numpy>=1.12.0 (from pandas->cufflinks==0.8.2)\n  Using cached https://files.pythonhosted.org/packages/e3/18/4f013c3c3051f4e0ffbaa4bf247050d6d5e527fe9cb1907f5975b172f23f/numpy-1.16.2-cp35-cp35m-manylinux1_x86_64.whl\nCollecting python-dateutil>=2.5.0 (from pandas->cufflinks==0.8.2)\n  Using cached https://files.pythonhosted.org/packages/41/17/c62faccbfbd163c7f57f3844689e3a78bae1f403648a6afb1d0866d87fbb/python_dateutil-2.8.0-py2.py3-none-any.whl\nCollecting jupyter-core (from nbformat>=4.2->plotly>=1.7.6->cufflinks==0.8.2)\n  Using cached https://files.pythonhosted.org/packages/1d/44/065d2d7bae7bebc06f1dd70d23c36da8c50c0f08b4236716743d706762a8/jupyter_core-4.4.0-py2.py3-none-any.whl\nCollecting traitlets>=4.1 (from nbformat>=4.2->plotly>=1.7.6->cufflinks==0.8.2)\n  Using cached https://files.pythonhosted.org/packages/93/d6/abcb22de61d78e2fc3959c964628a5771e47e7cc60d53e9342e21ed6cc9a/traitlets-4.3.2-py2.py3-none-any.whl\nCollecting jsonschema!=2.5.0,>=2.4 (from nbformat>=4.2->plotly>=1.7.6->cufflinks==0.8.2)\n  Using cached https://files.pythonhosted.org/packages/aa/69/df679dfbdd051568b53c38ec8152a3ab6bc533434fc7ed11ab034bf5e82f/jsonschema-3.0.1-py2.py3-none-any.whl\nCollecting ipython-genutils (from nbformat>=4.2->plotly>=1.7.6->cufflinks==0.8.2)\n  Using cached https://files.pythonhosted.org/packages/fa/bc/9bd3b5c2b4774d5f33b2d544f1460be9df7df2fe42f352135381c347c69a/ipython_genutils-0.2.0-py2.py3-none-any.whl\nCollecting certifi>=2017.4.17 (from requests->plotly>=1.7.6->cufflinks==0.8.2)\n  Using cached https://files.pythonhosted.org/packages/9f/e0/accfc1b56b57e9750eba272e24c4dddeac86852c2bebd1236674d7887e8a/certifi-2018.11.29-py2.py3-none-any.whl\nCollecting chardet<3.1.0,>=3.0.2 (from requests->plotly>=1.7.6->cufflinks==0.8.2)\n  Using cached https://files.pythonhosted.org/packages/bc/a9/01ffebfb562e4274b6487b4bb1ddec7ca55ec7510b22e4c51f14098443b8/chardet-3.0.4-py2.py3-none-any.whl\nCollecting idna<2.9,>=2.5 (from requests->plotly>=1.7.6->cufflinks==0.8.2)\n  Using cached https://files.pythonhosted.org/packages/14/2c/cd551d81dbe15200be1cf41cd03869a46fe7226e7450af7a6545bfc474c9/idna-2.8-py2.py3-none-any.whl\nCollecting urllib3<1.25,>=1.21.1 (from requests->plotly>=1.7.6->cufflinks==0.8.2)\n  Using cached https://files.pythonhosted.org/packages/62/00/ee1d7de624db8ba7090d1226aebefab96a2c71cd5cfa7629d6ad3f61b79e/urllib3-1.24.1-py2.py3-none-any.whl\nCollecting attrs>=17.4.0 (from jsonschema!=2.5.0,>=2.4->nbformat>=4.2->plotly>=1.7.6->cufflinks==0.8.2)\n  Using cached https://files.pythonhosted.org/packages/23/96/d828354fa2dbdf216eaa7b7de0db692f12c234f7ef888cc14980ef40d1d2/attrs-19.1.0-py2.py3-none-any.whl\nCollecting setuptools (from jsonschema!=2.5.0,>=2.4->nbformat>=4.2->plotly>=1.7.6->cufflinks==0.8.2)\n  Using cached https://files.pythonhosted.org/packages/d1/6a/4b2fcefd2ea0868810e92d519dacac1ddc64a2e53ba9e3422c3b62b378a6/setuptools-40.8.0-py2.py3-none-any.whl\nCollecting pyrsistent>=0.14.0 (from jsonschema!=2.5.0,>=2.4->nbformat>=4.2->plotly>=1.7.6->cufflinks==0.8.2)\nInstalling collected packages: decorator, six, ipython-genutils, traitlets, jupyter-core, attrs, setuptools, pyrsistent, jsonschema, nbformat, retrying, pytz, certifi, chardet, idna, urllib3, requests, plotly, numpy, python-dateutil, pandas, colorlover, cufflinks\nSuccessfully installed attrs-19.1.0 certifi-2018.11.29 chardet-3.0.4 colorlover-0.3.0 cufflinks-0.8.2 decorator-4.3.2 idna-2.8 ipython-genutils-0.2.0 jsonschema-3.0.1 jupyter-core-4.4.0 nbformat-4.4.0 numpy-1.16.2 pandas-0.24.1 plotly-3.6.1 pyrsistent-0.14.11 python-dateutil-2.8.0 pytz-2018.9 requests-2.21.0 retrying-1.3.3 setuptools-40.8.0 six-1.12.0 traitlets-4.3.2 urllib3-1.24.1\n"
                }
            ], 
            "source": "!pip install --upgrade cufflinks==0.8.2"
        }, 
        {
            "execution_count": 47, 
            "cell_type": "code", 
            "metadata": {}, 
            "outputs": [
                {
                    "output_type": "display_data", 
                    "data": {
                        "text/html": "<script type=\"text/javascript\">window.PlotlyConfig = {MathJaxConfig: 'local'};</script><script type=\"text/javascript\">if (window.MathJax) {MathJax.Hub.Config({SVG: {font: \"STIX-Web\"}});}</script><script>requirejs.config({paths: { 'plotly': ['https://cdn.plot.ly/plotly-latest.min']},});if(!window._Plotly) {require(['plotly'],function(plotly) {window._Plotly=plotly;});}</script>", 
                        "text/vnd.plotly.v1+html": "<script type=\"text/javascript\">window.PlotlyConfig = {MathJaxConfig: 'local'};</script><script type=\"text/javascript\">if (window.MathJax) {MathJax.Hub.Config({SVG: {font: \"STIX-Web\"}});}</script><script>requirejs.config({paths: { 'plotly': ['https://cdn.plot.ly/plotly-latest.min']},});if(!window._Plotly) {require(['plotly'],function(plotly) {window._Plotly=plotly;});}</script>"
                    }, 
                    "metadata": {}
                }
            ], 
            "source": "import sys\nimport pandas\nimport plotly.plotly as py\nfrom plotly.offline import download_plotlyjs, init_notebook_mode, plot, iplot\nimport cufflinks as cf\nimport plotly.graph_objs as go\ninit_notebook_mode(connected=True)\nsys.path.append(\"\".join([os.environ[\"HOME\"]]))"
        }, 
        {
            "execution_count": 48, 
            "cell_type": "code", 
            "metadata": {}, 
            "outputs": [], 
            "source": "predictions_pdf = predictions.select(\"prediction\", \"predictedLabel\", \"District\", \"Ward\", \"Community Area\", \"FBI Code\", \"Year\").toPandas()"
        }, 
        {
            "execution_count": 50, 
            "cell_type": "code", 
            "metadata": {}, 
            "outputs": [
                {
                    "output_type": "display_data", 
                    "data": {
                        "text/html": "<div id=\"dccd6903-3484-43c7-8a07-b4b34475df34\" style=\"height: 525px; width: 100%;\" class=\"plotly-graph-div\"></div><script type=\"text/javascript\">require([\"plotly\"], function(Plotly) { window.PLOTLYENV=window.PLOTLYENV || {};window.PLOTLYENV.BASE_URL=\"https://plot.ly\";Plotly.newPlot(\"dccd6903-3484-43c7-8a07-b4b34475df34\", [{\"labels\": [\"ASSAULT\", \"BATTERY\", \"BURGLARY\", \"CRIMINAL DAMAGE\", \"DECEPTIVE PRACTICE\", \"NARCOTICS\", \"OTHER OFFENSE\", \"THEFT\"], \"type\": \"pie\", \"uid\": \"cd735d22-b2c3-4c38-837f-41a700880b90\", \"values\": [8264, 38520, 5890, 14036, 2648, 11966, 15097, 25943]}], {\"title\": {\"text\": \"Predicted crime rate in the districts\"}}, {\"linkText\": \"Export to plot.ly\", \"plotlyServerURL\": \"https://plot.ly\", \"showLink\": false})});</script><script type=\"text/javascript\">window.addEventListener(\"resize\", function(){window._Plotly.Plots.resize(document.getElementById(\"dccd6903-3484-43c7-8a07-b4b34475df34\"));});</script>", 
                        "text/vnd.plotly.v1+html": "<div id=\"dccd6903-3484-43c7-8a07-b4b34475df34\" style=\"height: 525px; width: 100%;\" class=\"plotly-graph-div\"></div><script type=\"text/javascript\">require([\"plotly\"], function(Plotly) { window.PLOTLYENV=window.PLOTLYENV || {};window.PLOTLYENV.BASE_URL=\"https://plot.ly\";Plotly.newPlot(\"dccd6903-3484-43c7-8a07-b4b34475df34\", [{\"labels\": [\"ASSAULT\", \"BATTERY\", \"BURGLARY\", \"CRIMINAL DAMAGE\", \"DECEPTIVE PRACTICE\", \"NARCOTICS\", \"OTHER OFFENSE\", \"THEFT\"], \"type\": \"pie\", \"uid\": \"cd735d22-b2c3-4c38-837f-41a700880b90\", \"values\": [8264, 38520, 5890, 14036, 2648, 11966, 15097, 25943]}], {\"title\": {\"text\": \"Predicted crime rate in the districts\"}}, {\"linkText\": \"Export to plot.ly\", \"plotlyServerURL\": \"https://plot.ly\", \"showLink\": false})});</script><script type=\"text/javascript\">window.addEventListener(\"resize\", function(){window._Plotly.Plots.resize(document.getElementById(\"dccd6903-3484-43c7-8a07-b4b34475df34\"));});</script>", 
                        "application/vnd.plotly.v1+json": {
                            "config": {
                                "plotlyServerURL": "https://plot.ly", 
                                "linkText": "Export to plot.ly", 
                                "showLink": false
                            }, 
                            "data": [
                                {
                                    "type": "pie", 
                                    "labels": [
                                        "ASSAULT", 
                                        "BATTERY", 
                                        "BURGLARY", 
                                        "CRIMINAL DAMAGE", 
                                        "DECEPTIVE PRACTICE", 
                                        "NARCOTICS", 
                                        "OTHER OFFENSE", 
                                        "THEFT"
                                    ], 
                                    "values": [
                                        8264, 
                                        38520, 
                                        5890, 
                                        14036, 
                                        2648, 
                                        11966, 
                                        15097, 
                                        25943
                                    ], 
                                    "uid": "cd735d22-b2c3-4c38-837f-41a700880b90"
                                }
                            ], 
                            "layout": {
                                "title": {
                                    "text": "Predicted crime rate in the districts"
                                }
                            }
                        }
                    }, 
                    "metadata": {}
                }
            ], 
            "source": "cumulative_stats = predictions_pdf.groupby(['predictedLabel']).count()\ndistrict_data = [go.Pie(labels=cumulative_stats.index, values=cumulative_stats['District'])]\ndistrict_layout = go.Layout(title='Predicted crime rate in the districts')\n\nfig = go.Figure(data=district_data, layout=district_layout)\niplot(fig)"
        }, 
        {
            "execution_count": 51, 
            "cell_type": "code", 
            "metadata": {}, 
            "outputs": [
                {
                    "output_type": "display_data", 
                    "data": {
                        "text/html": "<div id=\"e54cc7d4-3f3c-4940-b235-d18876b48ce8\" style=\"height: 525px; width: 100%;\" class=\"plotly-graph-div\"></div><script type=\"text/javascript\">require([\"plotly\"], function(Plotly) { window.PLOTLYENV=window.PLOTLYENV || {};window.PLOTLYENV.BASE_URL=\"https://plot.ly\";Plotly.newPlot(\"e54cc7d4-3f3c-4940-b235-d18876b48ce8\", [{\"y\": [10.82187802516941, 10.651194184839044, 11.054329371816639, 11.489028213166144, 16.809667673716014, 11.011950526491727, 11.111214148506326, 11.849940253632965], \"x\": [\"ASSAULT\", \"BATTERY\", \"BURGLARY\", \"CRIMINAL DAMAGE\", \"DECEPTIVE PRACTICE\", \"NARCOTICS\", \"OTHER OFFENSE\", \"THEFT\"], \"type\": \"bar\", \"uid\": \"4a96dac5-8964-4166-8f91-c4492a22c7ac\"}], {\"title\": {\"text\": \"District Crime rate per predicted Primary Type\"}, \"xaxis\": {\"showline\": false, \"title\": {\"text\": \"Primary Type\"}}, \"yaxis\": {\"title\": {\"text\": \"District\"}}}, {\"linkText\": \"Export to plot.ly\", \"plotlyServerURL\": \"https://plot.ly\", \"showLink\": false})});</script><script type=\"text/javascript\">window.addEventListener(\"resize\", function(){window._Plotly.Plots.resize(document.getElementById(\"e54cc7d4-3f3c-4940-b235-d18876b48ce8\"));});</script>", 
                        "text/vnd.plotly.v1+html": "<div id=\"e54cc7d4-3f3c-4940-b235-d18876b48ce8\" style=\"height: 525px; width: 100%;\" class=\"plotly-graph-div\"></div><script type=\"text/javascript\">require([\"plotly\"], function(Plotly) { window.PLOTLYENV=window.PLOTLYENV || {};window.PLOTLYENV.BASE_URL=\"https://plot.ly\";Plotly.newPlot(\"e54cc7d4-3f3c-4940-b235-d18876b48ce8\", [{\"y\": [10.82187802516941, 10.651194184839044, 11.054329371816639, 11.489028213166144, 16.809667673716014, 11.011950526491727, 11.111214148506326, 11.849940253632965], \"x\": [\"ASSAULT\", \"BATTERY\", \"BURGLARY\", \"CRIMINAL DAMAGE\", \"DECEPTIVE PRACTICE\", \"NARCOTICS\", \"OTHER OFFENSE\", \"THEFT\"], \"type\": \"bar\", \"uid\": \"4a96dac5-8964-4166-8f91-c4492a22c7ac\"}], {\"title\": {\"text\": \"District Crime rate per predicted Primary Type\"}, \"xaxis\": {\"showline\": false, \"title\": {\"text\": \"Primary Type\"}}, \"yaxis\": {\"title\": {\"text\": \"District\"}}}, {\"linkText\": \"Export to plot.ly\", \"plotlyServerURL\": \"https://plot.ly\", \"showLink\": false})});</script><script type=\"text/javascript\">window.addEventListener(\"resize\", function(){window._Plotly.Plots.resize(document.getElementById(\"e54cc7d4-3f3c-4940-b235-d18876b48ce8\"));});</script>", 
                        "application/vnd.plotly.v1+json": {
                            "config": {
                                "plotlyServerURL": "https://plot.ly", 
                                "linkText": "Export to plot.ly", 
                                "showLink": false
                            }, 
                            "data": [
                                {
                                    "y": [
                                        10.82187802516941, 
                                        10.651194184839044, 
                                        11.054329371816639, 
                                        11.489028213166144, 
                                        16.809667673716014, 
                                        11.011950526491727, 
                                        11.111214148506326, 
                                        11.849940253632965
                                    ], 
                                    "x": [
                                        "ASSAULT", 
                                        "BATTERY", 
                                        "BURGLARY", 
                                        "CRIMINAL DAMAGE", 
                                        "DECEPTIVE PRACTICE", 
                                        "NARCOTICS", 
                                        "OTHER OFFENSE", 
                                        "THEFT"
                                    ], 
                                    "type": "bar", 
                                    "uid": "4a96dac5-8964-4166-8f91-c4492a22c7ac"
                                }
                            ], 
                            "layout": {
                                "title": {
                                    "text": "District Crime rate per predicted Primary Type"
                                }, 
                                "xaxis": {
                                    "showline": false, 
                                    "title": {
                                        "text": "Primary Type"
                                    }
                                }, 
                                "yaxis": {
                                    "title": {
                                        "text": "District"
                                    }
                                }
                            }
                        }
                    }, 
                    "metadata": {}
                }
            ], 
            "source": "dis_data = [go.Bar(y=predictions_pdf.groupby(['predictedLabel']).mean()[\"District\"], x=cumulative_stats.index)]\n\ndis_layout = go.Layout(\n    title='District Crime rate per predicted Primary Type',\n    xaxis=dict(title = \"Primary Type\", showline=False),\n    yaxis=dict(title = \"District\"))\n\nfig = go.Figure(data=dis_data, layout=dis_layout)\niplot(fig)"
        }, 
        {
            "execution_count": 52, 
            "cell_type": "code", 
            "metadata": {}, 
            "outputs": [
                {
                    "output_type": "display_data", 
                    "data": {
                        "text/html": "<div id=\"96e9aac9-237c-458c-bd09-4dcf5191feff\" style=\"height: 525px; width: 100%;\" class=\"plotly-graph-div\"></div><script type=\"text/javascript\">require([\"plotly\"], function(Plotly) { window.PLOTLYENV=window.PLOTLYENV || {};window.PLOTLYENV.BASE_URL=\"https://plot.ly\";Plotly.newPlot(\"96e9aac9-237c-458c-bd09-4dcf5191feff\", [{\"y\": [21.369917715392063, 20.34023883696781, 22.105432937181664, 22.5597748646338, 44.24206948640484, 21.97802105966906, 22.051798370537192, 24.883860771691786], \"x\": [\"ASSAULT\", \"BATTERY\", \"BURGLARY\", \"CRIMINAL DAMAGE\", \"DECEPTIVE PRACTICE\", \"NARCOTICS\", \"OTHER OFFENSE\", \"THEFT\"], \"type\": \"bar\", \"uid\": \"7d11638a-dc35-4482-a98e-75c5f3b55198\"}], {\"title\": {\"text\": \"Ward Crime rate per predicted Primary Type\"}, \"xaxis\": {\"showline\": false, \"title\": {\"text\": \"Primary Type\"}}, \"yaxis\": {\"title\": {\"text\": \"Ward\"}}}, {\"linkText\": \"Export to plot.ly\", \"plotlyServerURL\": \"https://plot.ly\", \"showLink\": false})});</script><script type=\"text/javascript\">window.addEventListener(\"resize\", function(){window._Plotly.Plots.resize(document.getElementById(\"96e9aac9-237c-458c-bd09-4dcf5191feff\"));});</script>", 
                        "text/vnd.plotly.v1+html": "<div id=\"96e9aac9-237c-458c-bd09-4dcf5191feff\" style=\"height: 525px; width: 100%;\" class=\"plotly-graph-div\"></div><script type=\"text/javascript\">require([\"plotly\"], function(Plotly) { window.PLOTLYENV=window.PLOTLYENV || {};window.PLOTLYENV.BASE_URL=\"https://plot.ly\";Plotly.newPlot(\"96e9aac9-237c-458c-bd09-4dcf5191feff\", [{\"y\": [21.369917715392063, 20.34023883696781, 22.105432937181664, 22.5597748646338, 44.24206948640484, 21.97802105966906, 22.051798370537192, 24.883860771691786], \"x\": [\"ASSAULT\", \"BATTERY\", \"BURGLARY\", \"CRIMINAL DAMAGE\", \"DECEPTIVE PRACTICE\", \"NARCOTICS\", \"OTHER OFFENSE\", \"THEFT\"], \"type\": \"bar\", \"uid\": \"7d11638a-dc35-4482-a98e-75c5f3b55198\"}], {\"title\": {\"text\": \"Ward Crime rate per predicted Primary Type\"}, \"xaxis\": {\"showline\": false, \"title\": {\"text\": \"Primary Type\"}}, \"yaxis\": {\"title\": {\"text\": \"Ward\"}}}, {\"linkText\": \"Export to plot.ly\", \"plotlyServerURL\": \"https://plot.ly\", \"showLink\": false})});</script><script type=\"text/javascript\">window.addEventListener(\"resize\", function(){window._Plotly.Plots.resize(document.getElementById(\"96e9aac9-237c-458c-bd09-4dcf5191feff\"));});</script>", 
                        "application/vnd.plotly.v1+json": {
                            "config": {
                                "plotlyServerURL": "https://plot.ly", 
                                "linkText": "Export to plot.ly", 
                                "showLink": false
                            }, 
                            "data": [
                                {
                                    "y": [
                                        21.369917715392063, 
                                        20.34023883696781, 
                                        22.105432937181664, 
                                        22.5597748646338, 
                                        44.24206948640484, 
                                        21.97802105966906, 
                                        22.051798370537192, 
                                        24.883860771691786
                                    ], 
                                    "x": [
                                        "ASSAULT", 
                                        "BATTERY", 
                                        "BURGLARY", 
                                        "CRIMINAL DAMAGE", 
                                        "DECEPTIVE PRACTICE", 
                                        "NARCOTICS", 
                                        "OTHER OFFENSE", 
                                        "THEFT"
                                    ], 
                                    "type": "bar", 
                                    "uid": "7d11638a-dc35-4482-a98e-75c5f3b55198"
                                }
                            ], 
                            "layout": {
                                "title": {
                                    "text": "Ward Crime rate per predicted Primary Type"
                                }, 
                                "xaxis": {
                                    "showline": false, 
                                    "title": {
                                        "text": "Primary Type"
                                    }
                                }, 
                                "yaxis": {
                                    "title": {
                                        "text": "Ward"
                                    }
                                }
                            }
                        }
                    }, 
                    "metadata": {}
                }
            ], 
            "source": "ward_data = [go.Bar(y=predictions_pdf.groupby(['predictedLabel']).mean()[\"Ward\"], x=cumulative_stats.index)]\n\nward_layout = go.Layout(\n    title='Ward Crime rate per predicted Primary Type',\n    xaxis=dict(title = \"Primary Type\", showline=False),\n    yaxis=dict(title = \"Ward\"))\n\nfig = go.Figure(data=ward_data, layout=ward_layout)\niplot(fig)"
        }, 
        {
            "execution_count": 53, 
            "cell_type": "code", 
            "metadata": {}, 
            "outputs": [
                {
                    "output_type": "display_data", 
                    "data": {
                        "text/html": "<div id=\"401cd543-862c-4257-b5df-b4127d4f6d44\" style=\"height: 525px; width: 100%;\" class=\"plotly-graph-div\"></div><script type=\"text/javascript\">require([\"plotly\"], function(Plotly) { window.PLOTLYENV=window.PLOTLYENV || {};window.PLOTLYENV.BASE_URL=\"https://plot.ly\";Plotly.newPlot(\"401cd543-862c-4257-b5df-b4127d4f6d44\", [{\"y\": [39.52371732817038, 40.38569574247144, 41.592529711375214, 38.6724850384725, 11.172583081570997, 37.64967407655023, 38.4149168709015, 33.591103573218206], \"x\": [\"ASSAULT\", \"BATTERY\", \"BURGLARY\", \"CRIMINAL DAMAGE\", \"DECEPTIVE PRACTICE\", \"NARCOTICS\", \"OTHER OFFENSE\", \"THEFT\"], \"type\": \"bar\", \"uid\": \"a293ee0f-8828-4f19-a18b-247d31127907\"}], {\"title\": {\"text\": \"Crime rate in Community Area as per predicted Primary Type\"}, \"xaxis\": {\"showline\": false, \"title\": {\"text\": \"Primary Type\"}}, \"yaxis\": {\"title\": {\"text\": \"Community Area\"}}}, {\"linkText\": \"Export to plot.ly\", \"plotlyServerURL\": \"https://plot.ly\", \"showLink\": false})});</script><script type=\"text/javascript\">window.addEventListener(\"resize\", function(){window._Plotly.Plots.resize(document.getElementById(\"401cd543-862c-4257-b5df-b4127d4f6d44\"));});</script>", 
                        "text/vnd.plotly.v1+html": "<div id=\"401cd543-862c-4257-b5df-b4127d4f6d44\" style=\"height: 525px; width: 100%;\" class=\"plotly-graph-div\"></div><script type=\"text/javascript\">require([\"plotly\"], function(Plotly) { window.PLOTLYENV=window.PLOTLYENV || {};window.PLOTLYENV.BASE_URL=\"https://plot.ly\";Plotly.newPlot(\"401cd543-862c-4257-b5df-b4127d4f6d44\", [{\"y\": [39.52371732817038, 40.38569574247144, 41.592529711375214, 38.6724850384725, 11.172583081570997, 37.64967407655023, 38.4149168709015, 33.591103573218206], \"x\": [\"ASSAULT\", \"BATTERY\", \"BURGLARY\", \"CRIMINAL DAMAGE\", \"DECEPTIVE PRACTICE\", \"NARCOTICS\", \"OTHER OFFENSE\", \"THEFT\"], \"type\": \"bar\", \"uid\": \"a293ee0f-8828-4f19-a18b-247d31127907\"}], {\"title\": {\"text\": \"Crime rate in Community Area as per predicted Primary Type\"}, \"xaxis\": {\"showline\": false, \"title\": {\"text\": \"Primary Type\"}}, \"yaxis\": {\"title\": {\"text\": \"Community Area\"}}}, {\"linkText\": \"Export to plot.ly\", \"plotlyServerURL\": \"https://plot.ly\", \"showLink\": false})});</script><script type=\"text/javascript\">window.addEventListener(\"resize\", function(){window._Plotly.Plots.resize(document.getElementById(\"401cd543-862c-4257-b5df-b4127d4f6d44\"));});</script>", 
                        "application/vnd.plotly.v1+json": {
                            "config": {
                                "plotlyServerURL": "https://plot.ly", 
                                "linkText": "Export to plot.ly", 
                                "showLink": false
                            }, 
                            "data": [
                                {
                                    "y": [
                                        39.52371732817038, 
                                        40.38569574247144, 
                                        41.592529711375214, 
                                        38.6724850384725, 
                                        11.172583081570997, 
                                        37.64967407655023, 
                                        38.4149168709015, 
                                        33.591103573218206
                                    ], 
                                    "x": [
                                        "ASSAULT", 
                                        "BATTERY", 
                                        "BURGLARY", 
                                        "CRIMINAL DAMAGE", 
                                        "DECEPTIVE PRACTICE", 
                                        "NARCOTICS", 
                                        "OTHER OFFENSE", 
                                        "THEFT"
                                    ], 
                                    "type": "bar", 
                                    "uid": "a293ee0f-8828-4f19-a18b-247d31127907"
                                }
                            ], 
                            "layout": {
                                "title": {
                                    "text": "Crime rate in Community Area as per predicted Primary Type"
                                }, 
                                "xaxis": {
                                    "showline": false, 
                                    "title": {
                                        "text": "Primary Type"
                                    }
                                }, 
                                "yaxis": {
                                    "title": {
                                        "text": "Community Area"
                                    }
                                }
                            }
                        }
                    }, 
                    "metadata": {}
                }
            ], 
            "source": "carea_data = [go.Bar(y=predictions_pdf.groupby(['predictedLabel']).mean()[\"Community Area\"], x=cumulative_stats.index)]\n\ncarea_layout = go.Layout(\n    title='Crime rate in Community Area as per predicted Primary Type',\n    xaxis=dict(title = \"Primary Type\", showline=False),\n    yaxis=dict(title = \"Community Area\"))\n\nfig = go.Figure(data=carea_data, layout=carea_layout)\niplot(fig)"
        }, 
        {
            "execution_count": 54, 
            "cell_type": "code", 
            "metadata": {}, 
            "outputs": [
                {
                    "output_type": "display_data", 
                    "data": {
                        "text/html": "<div id=\"c5c6eb47-3364-4fff-b6d7-31016ad824ab\" style=\"height: 525px; width: 100%;\" class=\"plotly-graph-div\"></div><script type=\"text/javascript\">require([\"plotly\"], function(Plotly) { window.PLOTLYENV=window.PLOTLYENV || {};window.PLOTLYENV.BASE_URL=\"https://plot.ly\";Plotly.newPlot(\"c5c6eb47-3364-4fff-b6d7-31016ad824ab\", [{\"labels\": [\"ASSAULT\", \"BATTERY\", \"BURGLARY\", \"CRIMINAL DAMAGE\", \"DECEPTIVE PRACTICE\", \"NARCOTICS\", \"OTHER OFFENSE\", \"THEFT\"], \"type\": \"pie\", \"uid\": \"f0fe9c9b-db15-4bcb-9a21-32ebdd2262eb\", \"values\": [8264, 38520, 5890, 14036, 2648, 11966, 15097, 25943]}], {\"title\": {\"text\": \"Predicted crime rate with the FBI Code\"}}, {\"linkText\": \"Export to plot.ly\", \"plotlyServerURL\": \"https://plot.ly\", \"showLink\": false})});</script><script type=\"text/javascript\">window.addEventListener(\"resize\", function(){window._Plotly.Plots.resize(document.getElementById(\"c5c6eb47-3364-4fff-b6d7-31016ad824ab\"));});</script>", 
                        "text/vnd.plotly.v1+html": "<div id=\"c5c6eb47-3364-4fff-b6d7-31016ad824ab\" style=\"height: 525px; width: 100%;\" class=\"plotly-graph-div\"></div><script type=\"text/javascript\">require([\"plotly\"], function(Plotly) { window.PLOTLYENV=window.PLOTLYENV || {};window.PLOTLYENV.BASE_URL=\"https://plot.ly\";Plotly.newPlot(\"c5c6eb47-3364-4fff-b6d7-31016ad824ab\", [{\"labels\": [\"ASSAULT\", \"BATTERY\", \"BURGLARY\", \"CRIMINAL DAMAGE\", \"DECEPTIVE PRACTICE\", \"NARCOTICS\", \"OTHER OFFENSE\", \"THEFT\"], \"type\": \"pie\", \"uid\": \"f0fe9c9b-db15-4bcb-9a21-32ebdd2262eb\", \"values\": [8264, 38520, 5890, 14036, 2648, 11966, 15097, 25943]}], {\"title\": {\"text\": \"Predicted crime rate with the FBI Code\"}}, {\"linkText\": \"Export to plot.ly\", \"plotlyServerURL\": \"https://plot.ly\", \"showLink\": false})});</script><script type=\"text/javascript\">window.addEventListener(\"resize\", function(){window._Plotly.Plots.resize(document.getElementById(\"c5c6eb47-3364-4fff-b6d7-31016ad824ab\"));});</script>", 
                        "application/vnd.plotly.v1+json": {
                            "config": {
                                "plotlyServerURL": "https://plot.ly", 
                                "linkText": "Export to plot.ly", 
                                "showLink": false
                            }, 
                            "data": [
                                {
                                    "type": "pie", 
                                    "labels": [
                                        "ASSAULT", 
                                        "BATTERY", 
                                        "BURGLARY", 
                                        "CRIMINAL DAMAGE", 
                                        "DECEPTIVE PRACTICE", 
                                        "NARCOTICS", 
                                        "OTHER OFFENSE", 
                                        "THEFT"
                                    ], 
                                    "values": [
                                        8264, 
                                        38520, 
                                        5890, 
                                        14036, 
                                        2648, 
                                        11966, 
                                        15097, 
                                        25943
                                    ], 
                                    "uid": "f0fe9c9b-db15-4bcb-9a21-32ebdd2262eb"
                                }
                            ], 
                            "layout": {
                                "title": {
                                    "text": "Predicted crime rate with the FBI Code"
                                }
                            }
                        }
                    }, 
                    "metadata": {}
                }
            ], 
            "source": "cumulative_stats1 = predictions_pdf.groupby(['predictedLabel']).count()\nfbi_data = [go.Pie(labels=cumulative_stats1.index, values=cumulative_stats1['FBI Code'])]\nfbi_layout = go.Layout(title='Predicted crime rate with the FBI Code')\n\nfig = go.Figure(data=fbi_data, layout=fbi_layout)\niplot(fig)"
        }, 
        {
            "execution_count": 55, 
            "cell_type": "code", 
            "metadata": {}, 
            "outputs": [
                {
                    "output_type": "display_data", 
                    "data": {
                        "text/html": "<div id=\"711f1953-8f5c-4ff1-a053-77bf8c7e5e98\" style=\"height: 525px; width: 100%;\" class=\"plotly-graph-div\"></div><script type=\"text/javascript\">require([\"plotly\"], function(Plotly) { window.PLOTLYENV=window.PLOTLYENV || {};window.PLOTLYENV.BASE_URL=\"https://plot.ly\";Plotly.newPlot(\"711f1953-8f5c-4ff1-a053-77bf8c7e5e98\", [{\"y\": [2009.174733785092, 2009.2159657320872, 2009.0471986417658, 2009.0386862353946, 2010.1110271903324, 2008.4338124686612, 2008.9879446247598, 2009.45372547508], \"x\": [\"ASSAULT\", \"BATTERY\", \"BURGLARY\", \"CRIMINAL DAMAGE\", \"DECEPTIVE PRACTICE\", \"NARCOTICS\", \"OTHER OFFENSE\", \"THEFT\"], \"type\": \"bar\", \"uid\": \"53854eae-842e-41b1-88b5-124bf32b42b3\"}], {\"title\": {\"text\": \"Number of Primary Type crimes taken place in the years\"}, \"xaxis\": {\"showline\": false, \"title\": {\"text\": \"Primary Type\"}}, \"yaxis\": {\"title\": {\"text\": \"Year\"}}}, {\"linkText\": \"Export to plot.ly\", \"plotlyServerURL\": \"https://plot.ly\", \"showLink\": false})});</script><script type=\"text/javascript\">window.addEventListener(\"resize\", function(){window._Plotly.Plots.resize(document.getElementById(\"711f1953-8f5c-4ff1-a053-77bf8c7e5e98\"));});</script>", 
                        "text/vnd.plotly.v1+html": "<div id=\"711f1953-8f5c-4ff1-a053-77bf8c7e5e98\" style=\"height: 525px; width: 100%;\" class=\"plotly-graph-div\"></div><script type=\"text/javascript\">require([\"plotly\"], function(Plotly) { window.PLOTLYENV=window.PLOTLYENV || {};window.PLOTLYENV.BASE_URL=\"https://plot.ly\";Plotly.newPlot(\"711f1953-8f5c-4ff1-a053-77bf8c7e5e98\", [{\"y\": [2009.174733785092, 2009.2159657320872, 2009.0471986417658, 2009.0386862353946, 2010.1110271903324, 2008.4338124686612, 2008.9879446247598, 2009.45372547508], \"x\": [\"ASSAULT\", \"BATTERY\", \"BURGLARY\", \"CRIMINAL DAMAGE\", \"DECEPTIVE PRACTICE\", \"NARCOTICS\", \"OTHER OFFENSE\", \"THEFT\"], \"type\": \"bar\", \"uid\": \"53854eae-842e-41b1-88b5-124bf32b42b3\"}], {\"title\": {\"text\": \"Number of Primary Type crimes taken place in the years\"}, \"xaxis\": {\"showline\": false, \"title\": {\"text\": \"Primary Type\"}}, \"yaxis\": {\"title\": {\"text\": \"Year\"}}}, {\"linkText\": \"Export to plot.ly\", \"plotlyServerURL\": \"https://plot.ly\", \"showLink\": false})});</script><script type=\"text/javascript\">window.addEventListener(\"resize\", function(){window._Plotly.Plots.resize(document.getElementById(\"711f1953-8f5c-4ff1-a053-77bf8c7e5e98\"));});</script>", 
                        "application/vnd.plotly.v1+json": {
                            "config": {
                                "plotlyServerURL": "https://plot.ly", 
                                "linkText": "Export to plot.ly", 
                                "showLink": false
                            }, 
                            "data": [
                                {
                                    "y": [
                                        2009.174733785092, 
                                        2009.2159657320872, 
                                        2009.0471986417658, 
                                        2009.0386862353946, 
                                        2010.1110271903324, 
                                        2008.4338124686612, 
                                        2008.9879446247598, 
                                        2009.45372547508
                                    ], 
                                    "x": [
                                        "ASSAULT", 
                                        "BATTERY", 
                                        "BURGLARY", 
                                        "CRIMINAL DAMAGE", 
                                        "DECEPTIVE PRACTICE", 
                                        "NARCOTICS", 
                                        "OTHER OFFENSE", 
                                        "THEFT"
                                    ], 
                                    "type": "bar", 
                                    "uid": "53854eae-842e-41b1-88b5-124bf32b42b3"
                                }
                            ], 
                            "layout": {
                                "title": {
                                    "text": "Number of Primary Type crimes taken place in the years"
                                }, 
                                "xaxis": {
                                    "showline": false, 
                                    "title": {
                                        "text": "Primary Type"
                                    }
                                }, 
                                "yaxis": {
                                    "title": {
                                        "text": "Year"
                                    }
                                }
                            }
                        }
                    }, 
                    "metadata": {}
                }
            ], 
            "source": "year_data = [go.Bar(y=predictions_pdf.predicted, x=cumulative_stats.index)]\n\nyear_layout = go.Layout(\n    title='Number of Primary Type crimes taken place in the years',\n    xaxis=dict(title = \"Primary Type\", showline=False),\n    yaxis=dict(title = \"Year\"))\n\nfig = go.Figure(data=year_data, layout=year_layout)\niplot(fig)"
        }
    ], 
    "metadata": {
        "kernelspec": {
            "display_name": "Python 3.5 with Spark", 
            "name": "python3", 
            "language": "python3"
        }, 
        "language_info": {
            "mimetype": "text/x-python", 
            "nbconvert_exporter": "python", 
            "version": "3.5.4", 
            "name": "python", 
            "file_extension": ".py", 
            "pygments_lexer": "ipython3", 
            "codemirror_mode": {
                "version": 3, 
                "name": "ipython"
            }
        }
    }, 
    "nbformat": 4
}